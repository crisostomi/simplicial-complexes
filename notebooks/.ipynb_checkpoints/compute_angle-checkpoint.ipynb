{
 "cells": [
  {
   "cell_type": "code",
   "execution_count": 64,
   "metadata": {},
   "outputs": [],
   "source": [
    "def compute_angle_diff(preds, targets):\n",
    "    \"\"\"\n",
    "    :param preds: (num_triangles, 3)\n",
    "    :param targets: (num_triangles, 3)\n",
    "    :return: \n",
    "    \"\"\"\n",
    "    arcs = []\n",
    "    num_triangles = len(preds)\n",
    "\n",
    "    for i in range(num_triangles):\n",
    "\n",
    "        angle = preds[i] @ targets[i]\n",
    "        arc = torch.arccos(angle) / np.pi * 180\n",
    "        print(arc)\n",
    "        arcs.append(arc)\n",
    "\n",
    "    return np.mean(arcs)"
   ]
  },
  {
   "cell_type": "code",
   "execution_count": 65,
   "metadata": {},
   "outputs": [],
   "source": [
    "import torch\n",
    "import numpy as np"
   ]
  },
  {
   "cell_type": "code",
   "execution_count": 66,
   "metadata": {},
   "outputs": [],
   "source": [
    "preds = torch.tensor([[0.33, 0.22, 0.55], [0.22, 0.33, 0.32]])\n",
    "targets = torch.tensor([[0.22, 0.55, 0.77], [0.12, 0.21, 0.77]])"
   ]
  },
  {
   "cell_type": "code",
   "execution_count": 67,
   "metadata": {},
   "outputs": [
    {
     "name": "stdout",
     "output_type": "stream",
     "text": [
      "tensor(51.8953)\n",
      "tensor(69.9951)\n"
     ]
    },
    {
     "data": {
      "text/plain": [
       "60.94523"
      ]
     },
     "execution_count": 67,
     "metadata": {},
     "output_type": "execute_result"
    }
   ],
   "source": [
    "compute_angle_diff(preds, targets)"
   ]
  },
  {
   "cell_type": "code",
   "execution_count": 68,
   "metadata": {},
   "outputs": [],
   "source": [
    "def compute_angle_diff_vectorized(preds, targets):\n",
    "    \"\"\"\n",
    "    :param preds: (num_triangles, 3)\n",
    "    :param targets: (num_triangles, 3)\n",
    "    :return: \n",
    "    \"\"\"\n",
    "    num_triangles = len(preds)\n",
    "    angle_matrix = preds @ targets.T\n",
    "    angles = torch.diag(angle_matrix)\n",
    "    \n",
    "    arcs = torch.arccos(angles) / np.pi * 180\n",
    "\n",
    "    return torch.mean(arcs)"
   ]
  },
  {
   "cell_type": "code",
   "execution_count": 69,
   "metadata": {},
   "outputs": [
    {
     "name": "stdout",
     "output_type": "stream",
     "text": [
      "tensor([0.6171, 0.3421])\n",
      "tensor([[51.8953, 59.3828],\n",
      "        [61.5560, 69.9951]])\n"
     ]
    }
   ],
   "source": [
    "angle = preds @ targets.T\n",
    "print(torch.diag(angle))\n",
    "arc = torch.arccos(angle) / np.pi * 180\n",
    "print(arc)\n"
   ]
  },
  {
   "cell_type": "code",
   "execution_count": 70,
   "metadata": {},
   "outputs": [
    {
     "data": {
      "text/plain": [
       "tensor(60.9452)"
      ]
     },
     "execution_count": 70,
     "metadata": {},
     "output_type": "execute_result"
    }
   ],
   "source": [
    "compute_angle_diff_vectorized(preds, targets)"
   ]
  },
  {
   "cell_type": "code",
   "execution_count": null,
   "metadata": {},
   "outputs": [],
   "source": []
  },
  {
   "cell_type": "code",
   "execution_count": null,
   "metadata": {},
   "outputs": [],
   "source": []
  }
 ],
 "metadata": {
  "kernelspec": {
   "display_name": "Python 3",
   "language": "python",
   "name": "python3"
  },
  "language_info": {
   "codemirror_mode": {
    "name": "ipython",
    "version": 3
   },
   "file_extension": ".py",
   "mimetype": "text/x-python",
   "name": "python",
   "nbconvert_exporter": "python",
   "pygments_lexer": "ipython3",
   "version": "3.7.10"
  },
  "latex_envs": {
   "LaTeX_envs_menu_present": true,
   "autoclose": false,
   "autocomplete": true,
   "bibliofile": "biblio.bib",
   "cite_by": "apalike",
   "current_citInitial": 1,
   "eqLabelWithNumbers": true,
   "eqNumInitial": 1,
   "hotkeys": {
    "equation": "Ctrl-E",
    "itemize": "Ctrl-I"
   },
   "labels_anchors": false,
   "latex_user_defs": false,
   "report_style_numbering": false,
   "user_envs_cfg": false
  },
  "varInspector": {
   "cols": {
    "lenName": 16,
    "lenType": 16,
    "lenVar": 40
   },
   "kernels_config": {
    "python": {
     "delete_cmd_postfix": "",
     "delete_cmd_prefix": "del ",
     "library": "var_list.py",
     "varRefreshCmd": "print(var_dic_list())"
    },
    "r": {
     "delete_cmd_postfix": ") ",
     "delete_cmd_prefix": "rm(",
     "library": "var_list.r",
     "varRefreshCmd": "cat(var_dic_list()) "
    }
   },
   "types_to_exclude": [
    "module",
    "function",
    "builtin_function_or_method",
    "instance",
    "_Feature"
   ],
   "window_display": false
  }
 },
 "nbformat": 4,
 "nbformat_minor": 4
}
