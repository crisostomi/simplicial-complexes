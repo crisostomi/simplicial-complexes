{
 "cells": [
  {
   "cell_type": "markdown",
   "metadata": {},
   "source": [
    "# Imports"
   ]
  },
  {
   "cell_type": "code",
   "execution_count": 76,
   "metadata": {},
   "outputs": [],
   "source": [
    "import numpy as np\n",
    "import torch\n",
    "import gudhi as gd\n",
    "import itertools\n",
    "import os\n",
    "\n",
    "# import graph_tool as gt\n",
    "# import graph_tool.topology as top\n",
    "import networkx as nx\n",
    "\n",
    "from tqdm import tqdm\n",
    "from tsp_sc.common.simp_complex import Cochain, SimplicialComplex\n",
    "from tsp_sc.graph_classification.data.dataset import ComplexDataset\n",
    "from typing import List, Dict, Optional, Union\n",
    "from torch import Tensor\n",
    "from torch_geometric.typing import Adj\n",
    "from torch_scatter import scatter\n",
    "from torch_geometric.utils import from_networkx\n",
    "# from data.parallel import ProgressParallel\n",
    "from joblib import delayed\n",
    "from scipy.sparse import coo_matrix\n"
   ]
  },
  {
   "cell_type": "markdown",
   "metadata": {},
   "source": [
    "# Input"
   ]
  },
  {
   "cell_type": "code",
   "execution_count": 20,
   "metadata": {},
   "outputs": [],
   "source": [
    "def get_house_complex():\n",
    "    \"\"\"\n",
    "    Returns the `house graph` below with dummy features.\n",
    "    The `house graph` (3-2-4 is a filled triangle):\n",
    "       4\n",
    "      / \\\n",
    "     3---2\n",
    "     |   |\n",
    "     0---1\n",
    "\n",
    "       .\n",
    "      4 5\n",
    "     . 2 .\n",
    "     3   1\n",
    "     . 0 .\n",
    "\n",
    "       .\n",
    "      /0\\\n",
    "     .---.\n",
    "     |   |\n",
    "     .---.\n",
    "    \"\"\"\n",
    "    v_up_index = torch.tensor([[0, 1, 0, 3, 1, 2, 2, 3, 2, 4, 3, 4],\n",
    "                               [1, 0, 3, 0, 2, 1, 3, 2, 4, 2, 4, 3]], dtype=torch.long)\n",
    "    v_shared_coboundaries = torch.tensor([0, 0, 3, 3, 1, 1, 2, 2, 5, 5, 4, 4], dtype=torch.long)\n",
    "    v_x = torch.tensor([[1], [2], [3], [4], [5]], dtype=torch.float)\n",
    "    yv = torch.tensor([0, 0, 0, 0, 0], dtype=torch.long)\n",
    "    v_cochain = Cochain(dim=0, x=v_x, upper_index=v_up_index, shared_coboundaries=v_shared_coboundaries, y=yv)\n",
    "\n",
    "    e_boundaries = [[0, 1], [1, 2], [2, 3], [0, 3], [3, 4], [2, 4]]\n",
    "    e_boundary_index = torch.stack([\n",
    "        torch.LongTensor(e_boundaries).view(-1),\n",
    "        torch.LongTensor([0, 0, 1, 1, 2, 2, 3, 3, 4, 4, 5, 5]).view(-1)], 0)\n",
    "\n",
    "    e_up_index = torch.tensor([[2, 4, 2, 5, 4, 5],\n",
    "                               [4, 2, 5, 2, 5, 4]], dtype=torch.long)\n",
    "    e_shared_coboundaries = torch.tensor([0, 0, 0, 0, 0, 0], dtype=torch.long)\n",
    "    e_down_index = torch.tensor([[0, 1, 0, 3, 1, 2, 1, 5, 2, 3, 2, 4, 2, 5, 3, 4, 4, 5],\n",
    "                                 [1, 0, 3, 0, 2, 1, 5, 1, 3, 2, 4, 2, 5, 2, 4, 3, 5, 4]],\n",
    "        dtype=torch.long)\n",
    "    e_shared_boundaries = torch.tensor([1, 1, 0, 0, 2, 2, 2, 2, 3, 3, 3, 3, 2, 2, 3, 3, 4, 4],\n",
    "        dtype=torch.long)\n",
    "    e_x = torch.tensor([[1], [2], [3], [4], [5], [6]], dtype=torch.float)\n",
    "    ye = torch.tensor([1, 1, 1, 1, 1, 1], dtype=torch.long)\n",
    "    e_cochain = Cochain(dim=1, x=e_x, upper_index=e_up_index, lower_index=e_down_index,\n",
    "        shared_coboundaries=e_shared_coboundaries, shared_boundaries=e_shared_boundaries,\n",
    "        boundary_index=e_boundary_index, y=ye)\n",
    "\n",
    "    t_boundaries = [[2, 4, 5]]\n",
    "    t_boundary_index = torch.stack([\n",
    "        torch.LongTensor(t_boundaries).view(-1),\n",
    "        torch.LongTensor([0, 0, 0]).view(-1)], 0)\n",
    "    t_x = torch.tensor([[1]], dtype=torch.float)\n",
    "    yt = torch.tensor([2], dtype=torch.long)\n",
    "    t_cochain = Cochain(dim=2, x=t_x, y=yt, boundary_index=t_boundary_index)\n",
    "    \n",
    "    y = torch.LongTensor([v_x.shape[0]])\n",
    "    \n",
    "    return Complex(v_cochain, e_cochain, t_cochain, y=y)"
   ]
  },
  {
   "cell_type": "code",
   "execution_count": 25,
   "metadata": {},
   "outputs": [],
   "source": [
    "G = nx.house_graph()\n",
    "data = from_networkx(G)\n",
    "edge_index = data['edge_index']\n",
    "num_nodes = data['num_nodes']"
   ]
  },
  {
   "cell_type": "markdown",
   "metadata": {},
   "source": [
    "# Simplicial tree creation"
   ]
  },
  {
   "cell_type": "code",
   "execution_count": 22,
   "metadata": {},
   "outputs": [],
   "source": [
    "def pyg_to_simplex_tree(edge_index: Tensor, size: int):\n",
    "    \"\"\"Constructs a simplex tree from a PyG graph.\n",
    "\n",
    "    Args:\n",
    "        edge_index: The edge_index of the graph (a tensor of shape [2, num_edges])\n",
    "        size: The number of nodes in the graph.\n",
    "    \"\"\"\n",
    "    st = gd.SimplexTree()\n",
    "    # Add vertices to the simplex.\n",
    "    for v in range(size):\n",
    "        st.insert([v])\n",
    "\n",
    "    # Add the edges to the simplex.\n",
    "    edges = edge_index.numpy()\n",
    "    for e in range(edges.shape[1]):\n",
    "        edge = [edges[0][e], edges[1][e]]\n",
    "        st.insert(edge)\n",
    "\n",
    "    return st"
   ]
  },
  {
   "cell_type": "code",
   "execution_count": 33,
   "metadata": {
    "pycharm": {
     "name": "#%%\n"
    }
   },
   "outputs": [],
   "source": [
    "simplex_tree = pyg_to_simplex_tree(edge_index, num_nodes)"
   ]
  },
  {
   "cell_type": "code",
   "execution_count": 44,
   "metadata": {},
   "outputs": [],
   "source": [
    "expansion_dim = 2\n",
    "simplex_tree.expansion(expansion_dim)  # Computes the clique complex up to the desired dim.\n",
    "complex_dim = simplex_tree.dimension()"
   ]
  },
  {
   "cell_type": "markdown",
   "metadata": {},
   "source": [
    "# Tables"
   ]
  },
  {
   "cell_type": "code",
   "execution_count": 88,
   "metadata": {},
   "outputs": [],
   "source": [
    "def build_tables(simplex_tree, size):\n",
    "    complex_dim = simplex_tree.dimension()\n",
    "    # Each of these data structures has a separate entry per dimension.\n",
    "    id_maps = [{} for _ in range(complex_dim+1)] # simplex -> id\n",
    "    simplex_tables = [[] for _ in range(complex_dim+1)] # matrix of simplices\n",
    "    boundaries_tables = [[] for _ in range(complex_dim+1)]\n",
    "\n",
    "    simplex_tables[0] = [[v] for v in range(size)]\n",
    "    id_maps[0] = {frozenset([v]): v for v in range(size)}\n",
    "\n",
    "    for simplex, _ in simplex_tree.get_simplices():\n",
    "        dim = len(simplex) - 1\n",
    "        if dim == 0:\n",
    "            continue\n",
    "\n",
    "        # Assign this simplex the next unused ID\n",
    "        next_id = len(simplex_tables[dim])\n",
    "        id_maps[dim][frozenset(simplex)] = next_id\n",
    "        simplex_tables[dim].append(simplex)\n",
    "\n",
    "    return simplex_tables, id_maps"
   ]
  },
  {
   "cell_type": "code",
   "execution_count": 89,
   "metadata": {},
   "outputs": [],
   "source": [
    "tables, id_maps = build_tables(simplex_tree, num_nodes)"
   ]
  },
  {
   "cell_type": "code",
   "execution_count": 90,
   "metadata": {},
   "outputs": [
    {
     "name": "stdout",
     "output_type": "stream",
     "text": [
      "[[[0], [1], [2], [3], [4]], [[0, 1], [0, 2], [1, 3], [2, 3], [2, 4], [3, 4]], [[2, 3, 4]]]\n",
      "[{frozenset({0}): 0, frozenset({1}): 1, frozenset({2}): 2, frozenset({3}): 3, frozenset({4}): 4}, {frozenset({0, 1}): 0, frozenset({0, 2}): 1, frozenset({1, 3}): 2, frozenset({2, 3}): 3, frozenset({2, 4}): 4, frozenset({3, 4}): 5}, {frozenset({2, 3, 4}): 0}]\n"
     ]
    }
   ],
   "source": [
    "print(tables)\n",
    "print(id_maps)"
   ]
  },
  {
   "cell_type": "markdown",
   "metadata": {},
   "source": [
    "# Boundaries and coboundaries"
   ]
  },
  {
   "cell_type": "code",
   "execution_count": 91,
   "metadata": {},
   "outputs": [],
   "source": [
    "def get_simplex_boundaries(simplex):\n",
    "    boundaries = itertools.combinations(simplex, len(simplex) - 1)\n",
    "    return [tuple(boundary) for boundary in boundaries]"
   ]
  },
  {
   "cell_type": "code",
   "execution_count": 94,
   "metadata": {},
   "outputs": [],
   "source": [
    "\n",
    "def extract_boundaries_and_coboundaries_from_simplex_tree(\n",
    "    simplex_tree, id_maps, complex_dim: int\n",
    "):\n",
    "    \"\"\"Build two maps simplex -> its coboundaries and simplex -> its boundaries\"\"\"\n",
    "    # The extra dimension is added just for convenience to avoid treating it as a special case.\n",
    "    boundaries = [{} for _ in range(complex_dim + 2)]  # simplex -> boundaries\n",
    "    coboundaries = [{} for _ in range(complex_dim + 2)]  # simplex -> coboundaries\n",
    "    boundaries_tables = [[] for _ in range(complex_dim + 1)]\n",
    "\n",
    "    for simplex, _ in simplex_tree.get_simplices():\n",
    "        print(simplex)\n",
    "        # Extract the relevant boundary and coboundary maps\n",
    "        simplex_dim = len(simplex) - 1\n",
    "        level_coboundaries = coboundaries[simplex_dim]\n",
    "        level_boundaries = boundaries[simplex_dim + 1]\n",
    "\n",
    "        # Add the boundaries of the simplex to the boundaries table\n",
    "        # (2, 3, 4) --> [(2, 3), (2, 4), (3, 4)] --> [id[(2, 3)], id[(2, 4)], id[(3, 4)]\n",
    "        if simplex_dim > 0:\n",
    "            boundaries_ids = [\n",
    "                id_maps[simplex_dim - 1][frozenset(boundary)]\n",
    "                for boundary in get_simplex_boundaries(simplex)\n",
    "            ]\n",
    "            boundaries_tables[simplex_dim].append(boundaries_ids)\n",
    "\n",
    "        simplex_coboundaries = simplex_tree.get_cofaces(simplex, codimension=1)\n",
    "        for coboundary, _ in simplex_coboundaries:\n",
    "            assert len(coboundary) == len(simplex) + 1\n",
    "\n",
    "            if tuple(simplex) not in level_coboundaries:\n",
    "                level_coboundaries[tuple(simplex)] = list()\n",
    "            level_coboundaries[tuple(simplex)].append(tuple(coboundary))\n",
    "\n",
    "            if tuple(coboundary) not in level_boundaries:\n",
    "                level_boundaries[tuple(coboundary)] = list()\n",
    "            level_boundaries[tuple(coboundary)].append(tuple(simplex))\n",
    "\n",
    "    return boundaries_tables, boundaries, coboundaries"
   ]
  },
  {
   "cell_type": "code",
   "execution_count": 95,
   "metadata": {},
   "outputs": [
    {
     "name": "stdout",
     "output_type": "stream",
     "text": [
      "[0, 1]\n",
      "[0, 2]\n",
      "[0]\n",
      "[1, 3]\n",
      "[1]\n",
      "[2, 3, 4]\n",
      "[2, 3]\n",
      "[2, 4]\n",
      "[2]\n",
      "[3, 4]\n",
      "[3]\n",
      "[4]\n"
     ]
    }
   ],
   "source": [
    "# Extracts the boundaries and coboundaries of each simplex in the complex\n",
    "boundaries_tables, boundaries, co_boundaries = (\n",
    "    extract_boundaries_and_coboundaries_from_simplex_tree(simplex_tree, id_maps, complex_dim))"
   ]
  },
  {
   "cell_type": "code",
   "execution_count": 96,
   "metadata": {},
   "outputs": [
    {
     "name": "stdout",
     "output_type": "stream",
     "text": [
      "[[], [[0, 1], [0, 2], [1, 3], [2, 3], [2, 4], [3, 4]], [[3, 4, 5]]]\n"
     ]
    }
   ],
   "source": [
    "print(boundaries_tables)"
   ]
  },
  {
   "cell_type": "code",
   "execution_count": 97,
   "metadata": {},
   "outputs": [
    {
     "name": "stdout",
     "output_type": "stream",
     "text": [
      "[{}, {(0, 1): [(0,), (1,)], (0, 2): [(0,), (2,)], (1, 3): [(1,), (3,)], (2, 3): [(2,), (3,)], (2, 4): [(2,), (4,)], (3, 4): [(3,), (4,)]}, {(2, 3, 4): [(2, 3), (2, 4), (3, 4)]}, {}]\n"
     ]
    }
   ],
   "source": [
    "print(boundaries)"
   ]
  },
  {
   "cell_type": "code",
   "execution_count": 98,
   "metadata": {},
   "outputs": [
    {
     "name": "stdout",
     "output_type": "stream",
     "text": [
      "[{(0,): [(0, 1), (0, 2)], (1,): [(0, 1), (1, 3)], (2,): [(0, 2), (2, 3), (2, 4)], (3,): [(1, 3), (2, 3), (3, 4)], (4,): [(2, 4), (3, 4)]}, {(2, 3): [(2, 3, 4)], (2, 4): [(2, 3, 4)], (3, 4): [(2, 3, 4)]}, {}, {}]\n"
     ]
    }
   ],
   "source": [
    "print(co_boundaries)"
   ]
  },
  {
   "cell_type": "code",
   "execution_count": 99,
   "metadata": {},
   "outputs": [],
   "source": [
    "\n",
    "def build_boundaries(id_maps):\n",
    "    \"\"\"\n",
    "    Build the boundary operators from a list of simplices.\n",
    "\n",
    "    Parameters\n",
    "    ----------\n",
    "    simplices:\n",
    "                List of dictionaries, one per dimension d.\n",
    "                The size of the dictionary is the number of d-simplices.\n",
    "                The dictionary's keys are sets (of size d+1) of the vertices that constitute the d-simplices.\n",
    "                The dictionary's values are the indexes of the simplices in the boundary and Laplacian matrices.\n",
    "    Returns\n",
    "    -------\n",
    "    boundaries:\n",
    "                List of boundary operators, one per dimension: i-th boundary is in (i-1)-th position\n",
    "    \"\"\"\n",
    "    boundaries = list()\n",
    "\n",
    "    for dim in range(1, len(id_maps)):\n",
    "        idx_simplices, idx_faces, values = [], [], []\n",
    "\n",
    "        # simplex is a frozenset of vertices, idx_simplex is the integer progressive id of the simplex\n",
    "        for simplex, idx_simplex in id_maps[dim].items():\n",
    "            simplices_list_sorted = np.sort(list(simplex))\n",
    "\n",
    "            for i, left_out in enumerate(simplices_list_sorted):\n",
    "                # linear combination of the face of the simplex obtained by removing\n",
    "                # the i-th vertex\n",
    "                idx_simplices.append(idx_simplex)\n",
    "                values.append((-1) ** i)\n",
    "                face = simplex.difference({left_out})\n",
    "                idx_faces.append(id_maps[dim - 1][face])\n",
    "\n",
    "        assert len(values) == (dim + 1) * len(id_maps[dim])\n",
    "        boundary = coo_matrix(\n",
    "            (values, (idx_faces, idx_simplices)),\n",
    "            dtype=np.float32,\n",
    "            shape=(len(id_maps[dim - 1]), len(id_maps[dim])),\n",
    "        )\n",
    "        boundaries.append(boundary)\n",
    "    return boundaries"
   ]
  },
  {
   "cell_type": "code",
   "execution_count": 100,
   "metadata": {},
   "outputs": [],
   "source": [
    "boundaries = build_boundaries(id_maps)"
   ]
  },
  {
   "cell_type": "markdown",
   "metadata": {},
   "source": [
    "# Features"
   ]
  },
  {
   "cell_type": "code",
   "execution_count": 103,
   "metadata": {},
   "outputs": [],
   "source": [
    "\n",
    "def construct_features(vx: Tensor, cell_tables, init_method: str) -> List:\n",
    "    \"\"\"Combines the features of the component vertices to initialise the cell features\"\"\"\n",
    "    features = [vx]\n",
    "    for dim in range(1, len(cell_tables)):\n",
    "        aux_1 = []\n",
    "        aux_0 = []\n",
    "        for c, cell in enumerate(cell_tables[dim]):\n",
    "            aux_1 += [c for _ in range(len(cell))]\n",
    "            aux_0 += cell\n",
    "        node_cell_index = torch.LongTensor([aux_0, aux_1])\n",
    "        in_features = vx.index_select(0, node_cell_index[0])\n",
    "        features.append(\n",
    "            scatter(\n",
    "                in_features,\n",
    "                node_cell_index[1],\n",
    "                dim=0,\n",
    "                dim_size=len(cell_tables[dim]),\n",
    "                reduce=init_method,\n",
    "            )\n",
    "        )\n",
    "\n",
    "    return features"
   ]
  },
  {
   "cell_type": "code",
   "execution_count": 104,
   "metadata": {},
   "outputs": [
    {
     "ename": "NameError",
     "evalue": "name 'x' is not defined",
     "output_type": "error",
     "traceback": [
      "\u001b[0;31m---------------------------------------------------------------------------\u001b[0m",
      "\u001b[0;31mNameError\u001b[0m                                 Traceback (most recent call last)",
      "\u001b[0;32m/tmp/ipykernel_17014/906722872.py\u001b[0m in \u001b[0;36m<module>\u001b[0;34m\u001b[0m\n\u001b[0;32m----> 1\u001b[0;31m \u001b[0mxs\u001b[0m \u001b[0;34m=\u001b[0m \u001b[0mconstruct_features\u001b[0m\u001b[0;34m(\u001b[0m\u001b[0mx\u001b[0m\u001b[0;34m,\u001b[0m \u001b[0msimplex_tables\u001b[0m\u001b[0;34m,\u001b[0m \u001b[0minit_method\u001b[0m\u001b[0;34m)\u001b[0m\u001b[0;34m\u001b[0m\u001b[0;34m\u001b[0m\u001b[0m\n\u001b[0m\u001b[1;32m      2\u001b[0m \u001b[0;34m\u001b[0m\u001b[0m\n\u001b[1;32m      3\u001b[0m \u001b[0;31m# Initialise the node / complex labels\u001b[0m\u001b[0;34m\u001b[0m\u001b[0;34m\u001b[0m\u001b[0;34m\u001b[0m\u001b[0m\n\u001b[1;32m      4\u001b[0m \u001b[0mv_y\u001b[0m\u001b[0;34m,\u001b[0m \u001b[0mcomplex_y\u001b[0m \u001b[0;34m=\u001b[0m \u001b[0mextract_labels\u001b[0m\u001b[0;34m(\u001b[0m\u001b[0my\u001b[0m\u001b[0;34m,\u001b[0m \u001b[0msize\u001b[0m\u001b[0;34m)\u001b[0m\u001b[0;34m\u001b[0m\u001b[0;34m\u001b[0m\u001b[0m\n\u001b[1;32m      5\u001b[0m \u001b[0;34m\u001b[0m\u001b[0m\n",
      "\u001b[0;31mNameError\u001b[0m: name 'x' is not defined"
     ]
    }
   ],
   "source": [
    "xs = construct_features(x, simplex_tables, init_method)\n",
    "\n",
    "# Initialise the node / complex labels\n",
    "v_y, complex_y = extract_labels(y, size)\n",
    "\n",
    "cochains = []\n",
    "for i in range(complex_dim+1):\n",
    "    y = v_y if i == 0 else None\n",
    "    cochain = generate_cochain(i, xs[i], upper_idx, lower_idx, shared_boundaries, shared_coboundaries,\n",
    "                           simplex_tables, boundaries_tables, complex_dim=complex_dim, y=y)\n",
    "    cochains.append(cochain)\n",
    "\n",
    "return Complex(*cochains, y=complex_y, dimension=complex_dim)"
   ]
  },
  {
   "cell_type": "code",
   "execution_count": null,
   "metadata": {},
   "outputs": [],
   "source": []
  }
 ],
 "metadata": {
  "kernelspec": {
   "display_name": "Python 3",
   "language": "python",
   "name": "python3"
  },
  "language_info": {
   "codemirror_mode": {
    "name": "ipython",
    "version": 3
   },
   "file_extension": ".py",
   "mimetype": "text/x-python",
   "name": "python",
   "nbconvert_exporter": "python",
   "pygments_lexer": "ipython3",
   "version": "3.8.12"
  },
  "latex_envs": {
   "LaTeX_envs_menu_present": true,
   "autoclose": false,
   "autocomplete": true,
   "bibliofile": "biblio.bib",
   "cite_by": "apalike",
   "current_citInitial": 1,
   "eqLabelWithNumbers": true,
   "eqNumInitial": 1,
   "hotkeys": {
    "equation": "Ctrl-E",
    "itemize": "Ctrl-I"
   },
   "labels_anchors": false,
   "latex_user_defs": false,
   "report_style_numbering": false,
   "user_envs_cfg": false
  },
  "varInspector": {
   "cols": {
    "lenName": 16,
    "lenType": 16,
    "lenVar": 40
   },
   "kernels_config": {
    "python": {
     "delete_cmd_postfix": "",
     "delete_cmd_prefix": "del ",
     "library": "var_list.py",
     "varRefreshCmd": "print(var_dic_list())"
    },
    "r": {
     "delete_cmd_postfix": ") ",
     "delete_cmd_prefix": "rm(",
     "library": "var_list.r",
     "varRefreshCmd": "cat(var_dic_list()) "
    }
   },
   "types_to_exclude": [
    "module",
    "function",
    "builtin_function_or_method",
    "instance",
    "_Feature"
   ],
   "window_display": false
  }
 },
 "nbformat": 4,
 "nbformat_minor": 1
}
