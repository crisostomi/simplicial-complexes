{
 "cells": [
  {
   "cell_type": "markdown",
   "metadata": {
    "id": "JUXyuZT0JJQo"
   },
   "source": [
    "# Setup"
   ]
  },
  {
   "cell_type": "markdown",
   "metadata": {
    "id": "_BNrUWds7J0g"
   },
   "source": [
    "## Imports"
   ]
  },
  {
   "cell_type": "code",
   "execution_count": 1,
   "metadata": {
    "colab": {
     "base_uri": "https://localhost:8080/"
    },
    "executionInfo": {
     "elapsed": 368,
     "status": "ok",
     "timestamp": 1628702746373,
     "user": {
      "displayName": "donato crisostomi",
      "photoUrl": "https://lh3.googleusercontent.com/a-/AOh14GgPF6gIkQREu4fSPb3tb-jWgteqPZKF_Nfz42N5Bw=s64",
      "userId": "08389014917835436028"
     },
     "user_tz": -120
    },
    "id": "slrlwNfI_2Y3",
    "outputId": "2db8e2ac-8370-4ff2-924e-31835322bd51"
   },
   "outputs": [
    {
     "name": "stdout",
     "output_type": "stream",
     "text": [
      "Running torch version 1.8.0, with CUDA version 101\n"
     ]
    }
   ],
   "source": [
    "import torch\n",
    "\n",
    "TORCH_VERSION = torch.__version__[:5]\n",
    "CUDA_VERSION = torch.version.cuda.replace('.','')\n",
    "print(f'Running torch version {TORCH_VERSION}, with CUDA version {CUDA_VERSION}')"
   ]
  },
  {
   "cell_type": "code",
   "execution_count": 7,
   "metadata": {
    "executionInfo": {
     "elapsed": 2977,
     "status": "ok",
     "timestamp": 1628702761159,
     "user": {
      "displayName": "donato crisostomi",
      "photoUrl": "https://lh3.googleusercontent.com/a-/AOh14GgPF6gIkQREu4fSPb3tb-jWgteqPZKF_Nfz42N5Bw=s64",
      "userId": "08389014917835436028"
     },
     "user_tz": -120
    },
    "id": "3g2LlW_PVpqA"
   },
   "outputs": [],
   "source": [
    "# deep learning\n",
    "import torch\n",
    "import torch.nn.functional as F\n",
    "import torch.nn as nn\n",
    "import torch.optim\n",
    "import numpy as np\n",
    "torch.set_printoptions(threshold=10000)\n",
    "\n",
    "# meshes\n",
    "import trimesh\n",
    "\n",
    "# pytorch geometric\n",
    "import torch_geometric\n",
    "from torch_geometric.nn import GCNConv, GATConv\n",
    "from torch_geometric.data import Data, Batch\n",
    "from torch_geometric.data import DataLoader\n",
    "from torch_geometric.utils import dropout_adj\n",
    "from torch_geometric.utils.convert import from_networkx\n",
    "import torch_geometric.transforms as T \n",
    "from torch_sparse import SparseTensor, set_diag\n",
    "\n",
    "import torch\n",
    "import torch.nn as nn\n",
    "import numpy as np\n",
    "import scipy\n",
    "from scipy import sparse\n",
    "import torch.utils.data as data\n",
    "import scipy.sparse.linalg\n",
    "from scipy.sparse import coo_matrix\n",
    "import scipy.sparse as sp\n",
    "import scipy.sparse.linalg as spl\n",
    "import pandas as pd\n",
    "\n",
    "# graphs\n",
    "import networkx as nx\n",
    "\n",
    "# misc\n",
    "from tqdm.notebook import tqdm\n",
    "import matplotlib.pyplot as plt\n",
    "import seaborn as sns\n",
    "from pprint import *\n",
    "from typing import *\n",
    "import json\n",
    "import os\n",
    "import math\n",
    "import random\n",
    "import dill"
   ]
  },
  {
   "cell_type": "code",
   "execution_count": 8,
   "metadata": {
    "executionInfo": {
     "elapsed": 15,
     "status": "ok",
     "timestamp": 1628702761167,
     "user": {
      "displayName": "donato crisostomi",
      "photoUrl": "https://lh3.googleusercontent.com/a-/AOh14GgPF6gIkQREu4fSPb3tb-jWgteqPZKF_Nfz42N5Bw=s64",
      "userId": "08389014917835436028"
     },
     "user_tz": -120
    },
    "id": "-SCgGkPup7KR"
   },
   "outputs": [],
   "source": [
    "import torch_geometric"
   ]
  },
  {
   "cell_type": "markdown",
   "metadata": {
    "id": "WPDUFSOW1zcL"
   },
   "source": [
    "## Configuration"
   ]
  },
  {
   "cell_type": "code",
   "execution_count": 9,
   "metadata": {
    "executionInfo": {
     "elapsed": 31,
     "status": "ok",
     "timestamp": 1628702762306,
     "user": {
      "displayName": "donato crisostomi",
      "photoUrl": "https://lh3.googleusercontent.com/a-/AOh14GgPF6gIkQREu4fSPb3tb-jWgteqPZKF_Nfz42N5Bw=s64",
      "userId": "08389014917835436028"
     },
     "user_tz": -120
    },
    "id": "ncM_EuspxMRl"
   },
   "outputs": [],
   "source": [
    "device = torch.device('cuda') if torch.cuda.is_available() else torch.device('cpu')"
   ]
  },
  {
   "cell_type": "code",
   "execution_count": 10,
   "metadata": {
    "executionInfo": {
     "elapsed": 29,
     "status": "ok",
     "timestamp": 1628702762307,
     "user": {
      "displayName": "donato crisostomi",
      "photoUrl": "https://lh3.googleusercontent.com/a-/AOh14GgPF6gIkQREu4fSPb3tb-jWgteqPZKF_Nfz42N5Bw=s64",
      "userId": "08389014917835436028"
     },
     "user_tz": -120
    },
    "id": "8xpBIgkTlFA-"
   },
   "outputs": [],
   "source": [
    "PROJECT_HOME = \"..\"\n",
    "data_folder = os.path.join(PROJECT_HOME, f'data')"
   ]
  },
  {
   "cell_type": "markdown",
   "metadata": {
    "id": "Qh02M0X2pX-x"
   },
   "source": [
    "## Run settings"
   ]
  },
  {
   "cell_type": "code",
   "execution_count": 11,
   "metadata": {
    "executionInfo": {
     "elapsed": 28,
     "status": "ok",
     "timestamp": 1628702762309,
     "user": {
      "displayName": "donato crisostomi",
      "photoUrl": "https://lh3.googleusercontent.com/a-/AOh14GgPF6gIkQREu4fSPb3tb-jWgteqPZKF_Nfz42N5Bw=s64",
      "userId": "08389014917835436028"
     },
     "user_tz": -120
    },
    "id": "ltv1B7M1pXRs"
   },
   "outputs": [],
   "source": [
    "use_dummy_data = False"
   ]
  },
  {
   "cell_type": "markdown",
   "metadata": {
    "id": "5PZMJgAPqjms"
   },
   "source": [
    "# Functions"
   ]
  },
  {
   "cell_type": "markdown",
   "metadata": {
    "id": "EctXvuSBqmLN"
   },
   "source": [
    "## Normal of a triangle"
   ]
  },
  {
   "cell_type": "markdown",
   "metadata": {
    "id": "NCnLzDfNqow9"
   },
   "source": [
    "\\begin{align}\n",
    "Nx &= Ay * Bz - Az * By \\\\\n",
    "Ny &= Az * Bx - Ax * Bz \\\\\n",
    "Nz &= Ax * By - Ay * Bx \\\\\n",
    "\\end{align}"
   ]
  },
  {
   "cell_type": "code",
   "execution_count": 12,
   "metadata": {
    "executionInfo": {
     "elapsed": 27,
     "status": "ok",
     "timestamp": 1628702762310,
     "user": {
      "displayName": "donato crisostomi",
      "photoUrl": "https://lh3.googleusercontent.com/a-/AOh14GgPF6gIkQREu4fSPb3tb-jWgteqPZKF_Nfz42N5Bw=s64",
      "userId": "08389014917835436028"
     },
     "user_tz": -120
    },
    "id": "tZ93srK5qxdv"
   },
   "outputs": [],
   "source": [
    "def compute_normal(triangle):\n",
    "    assert triangle.shape[0] == 3\n",
    "    v1, v2, v3 = triangle\n",
    "    \n",
    "    A = v2 - v1\n",
    "    B = v3 - v1\n",
    "\n",
    "    N = np.zeros(3, dtype=np.float64)\n",
    "    \n",
    "    N[0] = A[1] * B[2] - A[2] * B[1]\n",
    "    N[1] = A[2] * B[0] - A[0] * B[2]\n",
    "    N[2] = A[0] * B[1] - A[1] * B[0]  \n",
    "\n",
    "    norm = np.sqrt(N[0]**2 + N[1]**2 + N[2]**2)\n",
    "    \n",
    "    return N/norm"
   ]
  },
  {
   "cell_type": "markdown",
   "metadata": {
    "id": "u-Amis2kkXYG"
   },
   "source": [
    "# Data"
   ]
  },
  {
   "cell_type": "markdown",
   "metadata": {
    "id": "rgwlKr_CYdgV"
   },
   "source": [
    "## Dummy mesh"
   ]
  },
  {
   "cell_type": "code",
   "execution_count": 13,
   "metadata": {
    "executionInfo": {
     "elapsed": 27,
     "status": "ok",
     "timestamp": 1628702762312,
     "user": {
      "displayName": "donato crisostomi",
      "photoUrl": "https://lh3.googleusercontent.com/a-/AOh14GgPF6gIkQREu4fSPb3tb-jWgteqPZKF_Nfz42N5Bw=s64",
      "userId": "08389014917835436028"
     },
     "user_tz": -120
    },
    "id": "P-9aPx4VQuGx"
   },
   "outputs": [],
   "source": [
    "triangles = torch.tensor([ \n",
    "                          [0, 1, 2],\n",
    "                          [1, 2, 3],\n",
    "                          [2, 4, 5]\n",
    "                          ])\n",
    "\n",
    "positions = torch.tensor( [ \n",
    "                           [3, 2, 0],\n",
    "                           [5, 2, 0],\n",
    "                           [4, 4, 0],\n",
    "                           [6, 4, 0],\n",
    "                           [3, 6, 0],\n",
    "                           [2, 4, 0]\n",
    "                           ])"
   ]
  },
  {
   "cell_type": "code",
   "execution_count": 14,
   "metadata": {
    "colab": {
     "base_uri": "https://localhost:8080/"
    },
    "executionInfo": {
     "elapsed": 26,
     "status": "ok",
     "timestamp": 1628702762313,
     "user": {
      "displayName": "donato crisostomi",
      "photoUrl": "https://lh3.googleusercontent.com/a-/AOh14GgPF6gIkQREu4fSPb3tb-jWgteqPZKF_Nfz42N5Bw=s64",
      "userId": "08389014917835436028"
     },
     "user_tz": -120
    },
    "id": "FOODpjsRTs62",
    "outputId": "7fab7c72-6608-4fe1-a24a-d72b3092241a"
   },
   "outputs": [
    {
     "name": "stdout",
     "output_type": "stream",
     "text": [
      "There are 6 nodes and 3 triangles\n"
     ]
    }
   ],
   "source": [
    "num_nodes = positions.shape[0]\n",
    "num_triangles = triangles.shape[0]\n",
    "num_edges = 8\n",
    "print(f'There are {num_nodes} nodes and {num_triangles} triangles')"
   ]
  },
  {
   "cell_type": "markdown",
   "metadata": {
    "heading_collapsed": true,
    "id": "ApVnTiVKkLoc"
   },
   "source": [
    "## Data loading from file"
   ]
  },
  {
   "cell_type": "code",
   "execution_count": 14,
   "metadata": {
    "executionInfo": {
     "elapsed": 25,
     "status": "ok",
     "timestamp": 1628702762315,
     "user": {
      "displayName": "donato crisostomi",
      "photoUrl": "https://lh3.googleusercontent.com/a-/AOh14GgPF6gIkQREu4fSPb3tb-jWgteqPZKF_Nfz42N5Bw=s64",
      "userId": "08389014917835436028"
     },
     "user_tz": -120
    },
    "hidden": true,
    "id": "BOeHccGSLDqU"
   },
   "outputs": [],
   "source": [
    "mesh_name = 'bob'"
   ]
  },
  {
   "cell_type": "markdown",
   "metadata": {
    "heading_collapsed": true,
    "hidden": true,
    "id": "bH_juGJAQbgl"
   },
   "source": [
    "### Mesh loading"
   ]
  },
  {
   "cell_type": "code",
   "execution_count": 15,
   "metadata": {
    "colab": {
     "base_uri": "https://localhost:8080/",
     "height": 316
    },
    "executionInfo": {
     "elapsed": 351,
     "status": "error",
     "timestamp": 1628702762643,
     "user": {
      "displayName": "donato crisostomi",
      "photoUrl": "https://lh3.googleusercontent.com/a-/AOh14GgPF6gIkQREu4fSPb3tb-jWgteqPZKF_Nfz42N5Bw=s64",
      "userId": "08389014917835436028"
     },
     "user_tz": -120
    },
    "hidden": true,
    "id": "qYJHrLw9OT5E",
    "outputId": "047308b8-4bc0-4a81-a893-1a77a14a4927"
   },
   "outputs": [
    {
     "ename": "ValueError",
     "evalue": "ignored",
     "output_type": "error",
     "traceback": [
      "\u001B[0;31m---------------------------------------------------------------------------\u001B[0m",
      "\u001B[0;31mValueError\u001B[0m                                Traceback (most recent call last)",
      "\u001B[0;32m<ipython-input-15-b21caf3bad64>\u001B[0m in \u001B[0;36m<module>\u001B[0;34m()\u001B[0m\n\u001B[0;32m----> 1\u001B[0;31m \u001B[0mmesh\u001B[0m \u001B[0;34m=\u001B[0m \u001B[0mtrimesh\u001B[0m\u001B[0;34m.\u001B[0m\u001B[0mload\u001B[0m\u001B[0;34m(\u001B[0m\u001B[0mos\u001B[0m\u001B[0;34m.\u001B[0m\u001B[0mpath\u001B[0m\u001B[0;34m.\u001B[0m\u001B[0mjoin\u001B[0m\u001B[0;34m(\u001B[0m\u001B[0mdata_folder\u001B[0m\u001B[0;34m,\u001B[0m \u001B[0;34mf'{mesh_name}_tri.obj'\u001B[0m\u001B[0;34m)\u001B[0m\u001B[0;34m)\u001B[0m\u001B[0;34m\u001B[0m\u001B[0;34m\u001B[0m\u001B[0m\n\u001B[0m",
      "\u001B[0;32m/usr/local/lib/python3.7/dist-packages/trimesh/exchange/load.py\u001B[0m in \u001B[0;36mload\u001B[0;34m(file_obj, file_type, resolver, force, **kwargs)\u001B[0m\n\u001B[1;32m    110\u001B[0m      \u001B[0;34m)\u001B[0m \u001B[0;34m=\u001B[0m \u001B[0mparse_file_args\u001B[0m\u001B[0;34m(\u001B[0m\u001B[0mfile_obj\u001B[0m\u001B[0;34m=\u001B[0m\u001B[0mfile_obj\u001B[0m\u001B[0;34m,\u001B[0m\u001B[0;34m\u001B[0m\u001B[0;34m\u001B[0m\u001B[0m\n\u001B[1;32m    111\u001B[0m                          \u001B[0mfile_type\u001B[0m\u001B[0;34m=\u001B[0m\u001B[0mfile_type\u001B[0m\u001B[0;34m,\u001B[0m\u001B[0;34m\u001B[0m\u001B[0;34m\u001B[0m\u001B[0m\n\u001B[0;32m--> 112\u001B[0;31m                          resolver=resolver)\n\u001B[0m\u001B[1;32m    113\u001B[0m \u001B[0;34m\u001B[0m\u001B[0m\n\u001B[1;32m    114\u001B[0m     \u001B[0;32mtry\u001B[0m\u001B[0;34m:\u001B[0m\u001B[0;34m\u001B[0m\u001B[0;34m\u001B[0m\u001B[0m\n",
      "\u001B[0;32m/usr/local/lib/python3.7/dist-packages/trimesh/exchange/load.py\u001B[0m in \u001B[0;36mparse_file_args\u001B[0;34m(file_obj, file_type, resolver, **kwargs)\u001B[0m\n\u001B[1;32m    603\u001B[0m                     'use load_remote to load URL: {}'.format(file_obj))\n\u001B[1;32m    604\u001B[0m             \u001B[0;32melif\u001B[0m \u001B[0mfile_type\u001B[0m \u001B[0;32mis\u001B[0m \u001B[0;32mNone\u001B[0m\u001B[0;34m:\u001B[0m\u001B[0;34m\u001B[0m\u001B[0;34m\u001B[0m\u001B[0m\n\u001B[0;32m--> 605\u001B[0;31m                 \u001B[0;32mraise\u001B[0m \u001B[0mValueError\u001B[0m\u001B[0;34m(\u001B[0m\u001B[0;34m'string is not a file: {}'\u001B[0m\u001B[0;34m.\u001B[0m\u001B[0mformat\u001B[0m\u001B[0;34m(\u001B[0m\u001B[0mfile_obj\u001B[0m\u001B[0;34m)\u001B[0m\u001B[0;34m)\u001B[0m\u001B[0;34m\u001B[0m\u001B[0;34m\u001B[0m\u001B[0m\n\u001B[0m\u001B[1;32m    606\u001B[0m \u001B[0;34m\u001B[0m\u001B[0m\n\u001B[1;32m    607\u001B[0m     \u001B[0;32mif\u001B[0m \u001B[0mfile_type\u001B[0m \u001B[0;32mis\u001B[0m \u001B[0;32mNone\u001B[0m\u001B[0;34m:\u001B[0m\u001B[0;34m\u001B[0m\u001B[0;34m\u001B[0m\u001B[0m\n",
      "\u001B[0;31mValueError\u001B[0m: string is not a file: /content/drive/My Drive/Topological Signal Processing/mesh normals/data/bob_tri.obj"
     ]
    }
   ],
   "source": [
    "mesh = trimesh.load(os.path.join(data_folder, f'{mesh_name}_tri.obj'))"
   ]
  },
  {
   "cell_type": "code",
   "execution_count": null,
   "metadata": {
    "executionInfo": {
     "elapsed": 19,
     "status": "aborted",
     "timestamp": 1628702762633,
     "user": {
      "displayName": "donato crisostomi",
      "photoUrl": "https://lh3.googleusercontent.com/a-/AOh14GgPF6gIkQREu4fSPb3tb-jWgteqPZKF_Nfz42N5Bw=s64",
      "userId": "08389014917835436028"
     },
     "user_tz": -120
    },
    "hidden": true,
    "id": "_bGlmOqLPOvo"
   },
   "outputs": [],
   "source": [
    "print(mesh)\n",
    "triangles = mesh.faces\n",
    "positions = mesh.vertices\n",
    "num_triangles = triangles.shape[0]\n",
    "num_vertices = positions.shape[0]"
   ]
  },
  {
   "cell_type": "markdown",
   "metadata": {
    "hidden": true,
    "id": "ZUWWzQGcVYKe"
   },
   "source": [
    "### Plot"
   ]
  },
  {
   "cell_type": "code",
   "execution_count": null,
   "metadata": {
    "executionInfo": {
     "elapsed": 20,
     "status": "aborted",
     "timestamp": 1628702762635,
     "user": {
      "displayName": "donato crisostomi",
      "photoUrl": "https://lh3.googleusercontent.com/a-/AOh14GgPF6gIkQREu4fSPb3tb-jWgteqPZKF_Nfz42N5Bw=s64",
      "userId": "08389014917835436028"
     },
     "user_tz": -120
    },
    "hidden": true,
    "id": "q1pndPpSVIyi"
   },
   "outputs": [],
   "source": [
    "import plotly.figure_factory as ff\n",
    "import numpy as np\n",
    "from scipy.spatial import Delaunay\n",
    "\n",
    "\n",
    "x = positions[:, 0]\n",
    "y = positions[:, 1]\n",
    "z = positions[:, 2]\n",
    "\n",
    "fig = ff.create_trisurf(x=x, y=y, z=z,\n",
    "                         simplices=triangles,\n",
    "                         title=mesh_name, aspectratio=dict(x=1, y=1, z=0.3))\n",
    "fig.show()"
   ]
  },
  {
   "cell_type": "markdown",
   "metadata": {
    "id": "au-byLYNrcdp"
   },
   "source": [
    "## Data loading from PyG"
   ]
  },
  {
   "cell_type": "markdown",
   "metadata": {
    "id": "lg4-zBFSrceI"
   },
   "source": [
    "### Mesh loading"
   ]
  },
  {
   "cell_type": "code",
   "execution_count": null,
   "metadata": {},
   "outputs": [
    {
     "name": "stdout",
     "output_type": "stream",
     "text": [
      "Collecting openmesh\n",
      "  Downloading openmesh-1.1.6.tar.gz (9.1 MB)\n",
      "\u001B[K     |████████████████████████████████| 9.1 MB 3.6 MB/s eta 0:00:01\n",
      "\u001B[?25hRequirement already satisfied: numpy in /home/don/anaconda3/envs/TSP-SC/lib/python3.9/site-packages (from openmesh) (1.21.1)\n",
      "Building wheels for collected packages: openmesh\n",
      "  Building wheel for openmesh (setup.py) ... \u001B[?25l/"
     ]
    }
   ],
   "source": [
    "!pip install openmesh"
   ]
  },
  {
   "cell_type": "code",
   "execution_count": 16,
   "metadata": {
    "colab": {
     "base_uri": "https://localhost:8080/",
     "height": 316
    },
    "executionInfo": {
     "elapsed": 342,
     "status": "error",
     "timestamp": 1628702789764,
     "user": {
      "displayName": "donato crisostomi",
      "photoUrl": "https://lh3.googleusercontent.com/a-/AOh14GgPF6gIkQREu4fSPb3tb-jWgteqPZKF_Nfz42N5Bw=s64",
      "userId": "08389014917835436028"
     },
     "user_tz": -120
    },
    "id": "C6yQF38grceJ",
    "outputId": "9b3852cb-ed2c-44ec-db55-f7001f9c4b4a"
   },
   "outputs": [
    {
     "name": "stdout",
     "output_type": "stream",
     "text": [
      "Processing...\n"
     ]
    },
    {
     "ename": "ImportError",
     "evalue": "`read_ply` requires the `openmesh` package.",
     "output_type": "error",
     "traceback": [
      "\u001B[0;31m---------------------------------------------------------------------------\u001B[0m",
      "\u001B[0;31mImportError\u001B[0m                               Traceback (most recent call last)",
      "\u001B[0;32m/tmp/ipykernel_40971/3097599446.py\u001B[0m in \u001B[0;36m<module>\u001B[0;34m\u001B[0m\n\u001B[0;32m----> 1\u001B[0;31m \u001B[0mmesh\u001B[0m \u001B[0;34m=\u001B[0m \u001B[0mtorch_geometric\u001B[0m\u001B[0;34m.\u001B[0m\u001B[0mdatasets\u001B[0m\u001B[0;34m.\u001B[0m\u001B[0mFAUST\u001B[0m\u001B[0;34m(\u001B[0m\u001B[0mdata_folder\u001B[0m\u001B[0;34m)\u001B[0m\u001B[0;34m\u001B[0m\u001B[0;34m\u001B[0m\u001B[0m\n\u001B[0m",
      "\u001B[0;32m~/anaconda3/envs/TSP-SC/lib/python3.9/site-packages/torch_geometric/datasets/faust.py\u001B[0m in \u001B[0;36m__init__\u001B[0;34m(self, root, train, transform, pre_transform, pre_filter)\u001B[0m\n\u001B[1;32m     50\u001B[0m                  \u001B[0mpre_transform\u001B[0m\u001B[0;34m:\u001B[0m \u001B[0mOptional\u001B[0m\u001B[0;34m[\u001B[0m\u001B[0mCallable\u001B[0m\u001B[0;34m]\u001B[0m \u001B[0;34m=\u001B[0m \u001B[0;32mNone\u001B[0m\u001B[0;34m,\u001B[0m\u001B[0;34m\u001B[0m\u001B[0;34m\u001B[0m\u001B[0m\n\u001B[1;32m     51\u001B[0m                  pre_filter: Optional[Callable] = None):\n\u001B[0;32m---> 52\u001B[0;31m         \u001B[0msuper\u001B[0m\u001B[0;34m(\u001B[0m\u001B[0;34m)\u001B[0m\u001B[0;34m.\u001B[0m\u001B[0m__init__\u001B[0m\u001B[0;34m(\u001B[0m\u001B[0mroot\u001B[0m\u001B[0;34m,\u001B[0m \u001B[0mtransform\u001B[0m\u001B[0;34m,\u001B[0m \u001B[0mpre_transform\u001B[0m\u001B[0;34m,\u001B[0m \u001B[0mpre_filter\u001B[0m\u001B[0;34m)\u001B[0m\u001B[0;34m\u001B[0m\u001B[0;34m\u001B[0m\u001B[0m\n\u001B[0m\u001B[1;32m     53\u001B[0m         \u001B[0mpath\u001B[0m \u001B[0;34m=\u001B[0m \u001B[0mself\u001B[0m\u001B[0;34m.\u001B[0m\u001B[0mprocessed_paths\u001B[0m\u001B[0;34m[\u001B[0m\u001B[0;36m0\u001B[0m\u001B[0;34m]\u001B[0m \u001B[0;32mif\u001B[0m \u001B[0mtrain\u001B[0m \u001B[0;32melse\u001B[0m \u001B[0mself\u001B[0m\u001B[0;34m.\u001B[0m\u001B[0mprocessed_paths\u001B[0m\u001B[0;34m[\u001B[0m\u001B[0;36m1\u001B[0m\u001B[0;34m]\u001B[0m\u001B[0;34m\u001B[0m\u001B[0;34m\u001B[0m\u001B[0m\n\u001B[1;32m     54\u001B[0m         \u001B[0mself\u001B[0m\u001B[0;34m.\u001B[0m\u001B[0mdata\u001B[0m\u001B[0;34m,\u001B[0m \u001B[0mself\u001B[0m\u001B[0;34m.\u001B[0m\u001B[0mslices\u001B[0m \u001B[0;34m=\u001B[0m \u001B[0mtorch\u001B[0m\u001B[0;34m.\u001B[0m\u001B[0mload\u001B[0m\u001B[0;34m(\u001B[0m\u001B[0mpath\u001B[0m\u001B[0;34m)\u001B[0m\u001B[0;34m\u001B[0m\u001B[0;34m\u001B[0m\u001B[0m\n",
      "\u001B[0;32m~/anaconda3/envs/TSP-SC/lib/python3.9/site-packages/torch_geometric/data/in_memory_dataset.py\u001B[0m in \u001B[0;36m__init__\u001B[0;34m(self, root, transform, pre_transform, pre_filter)\u001B[0m\n\u001B[1;32m     58\u001B[0m                  \u001B[0mpre_transform\u001B[0m\u001B[0;34m:\u001B[0m \u001B[0mOptional\u001B[0m\u001B[0;34m[\u001B[0m\u001B[0mCallable\u001B[0m\u001B[0;34m]\u001B[0m \u001B[0;34m=\u001B[0m \u001B[0;32mNone\u001B[0m\u001B[0;34m,\u001B[0m\u001B[0;34m\u001B[0m\u001B[0;34m\u001B[0m\u001B[0m\n\u001B[1;32m     59\u001B[0m                  pre_filter: Optional[Callable] = None):\n\u001B[0;32m---> 60\u001B[0;31m         \u001B[0msuper\u001B[0m\u001B[0;34m(\u001B[0m\u001B[0;34m)\u001B[0m\u001B[0;34m.\u001B[0m\u001B[0m__init__\u001B[0m\u001B[0;34m(\u001B[0m\u001B[0mroot\u001B[0m\u001B[0;34m,\u001B[0m \u001B[0mtransform\u001B[0m\u001B[0;34m,\u001B[0m \u001B[0mpre_transform\u001B[0m\u001B[0;34m,\u001B[0m \u001B[0mpre_filter\u001B[0m\u001B[0;34m)\u001B[0m\u001B[0;34m\u001B[0m\u001B[0;34m\u001B[0m\u001B[0m\n\u001B[0m\u001B[1;32m     61\u001B[0m         \u001B[0mself\u001B[0m\u001B[0;34m.\u001B[0m\u001B[0mdata\u001B[0m \u001B[0;34m=\u001B[0m \u001B[0;32mNone\u001B[0m\u001B[0;34m\u001B[0m\u001B[0;34m\u001B[0m\u001B[0m\n\u001B[1;32m     62\u001B[0m         \u001B[0mself\u001B[0m\u001B[0;34m.\u001B[0m\u001B[0mslices\u001B[0m \u001B[0;34m=\u001B[0m \u001B[0;32mNone\u001B[0m\u001B[0;34m\u001B[0m\u001B[0;34m\u001B[0m\u001B[0m\n",
      "\u001B[0;32m~/anaconda3/envs/TSP-SC/lib/python3.9/site-packages/torch_geometric/data/dataset.py\u001B[0m in \u001B[0;36m__init__\u001B[0;34m(self, root, transform, pre_transform, pre_filter)\u001B[0m\n\u001B[1;32m     84\u001B[0m \u001B[0;34m\u001B[0m\u001B[0m\n\u001B[1;32m     85\u001B[0m         \u001B[0;32mif\u001B[0m \u001B[0;34m'process'\u001B[0m \u001B[0;32min\u001B[0m \u001B[0mself\u001B[0m\u001B[0;34m.\u001B[0m\u001B[0m__class__\u001B[0m\u001B[0;34m.\u001B[0m\u001B[0m__dict__\u001B[0m\u001B[0;34m.\u001B[0m\u001B[0mkeys\u001B[0m\u001B[0;34m(\u001B[0m\u001B[0;34m)\u001B[0m\u001B[0;34m:\u001B[0m\u001B[0;34m\u001B[0m\u001B[0;34m\u001B[0m\u001B[0m\n\u001B[0;32m---> 86\u001B[0;31m             \u001B[0mself\u001B[0m\u001B[0;34m.\u001B[0m\u001B[0m_process\u001B[0m\u001B[0;34m(\u001B[0m\u001B[0;34m)\u001B[0m\u001B[0;34m\u001B[0m\u001B[0;34m\u001B[0m\u001B[0m\n\u001B[0m\u001B[1;32m     87\u001B[0m \u001B[0;34m\u001B[0m\u001B[0m\n\u001B[1;32m     88\u001B[0m     \u001B[0;32mdef\u001B[0m \u001B[0mindices\u001B[0m\u001B[0;34m(\u001B[0m\u001B[0mself\u001B[0m\u001B[0;34m)\u001B[0m \u001B[0;34m->\u001B[0m \u001B[0mSequence\u001B[0m\u001B[0;34m:\u001B[0m\u001B[0;34m\u001B[0m\u001B[0;34m\u001B[0m\u001B[0m\n",
      "\u001B[0;32m~/anaconda3/envs/TSP-SC/lib/python3.9/site-packages/torch_geometric/data/dataset.py\u001B[0m in \u001B[0;36m_process\u001B[0;34m(self)\u001B[0m\n\u001B[1;32m    163\u001B[0m \u001B[0;34m\u001B[0m\u001B[0m\n\u001B[1;32m    164\u001B[0m         \u001B[0mmakedirs\u001B[0m\u001B[0;34m(\u001B[0m\u001B[0mself\u001B[0m\u001B[0;34m.\u001B[0m\u001B[0mprocessed_dir\u001B[0m\u001B[0;34m)\u001B[0m\u001B[0;34m\u001B[0m\u001B[0;34m\u001B[0m\u001B[0m\n\u001B[0;32m--> 165\u001B[0;31m         \u001B[0mself\u001B[0m\u001B[0;34m.\u001B[0m\u001B[0mprocess\u001B[0m\u001B[0;34m(\u001B[0m\u001B[0;34m)\u001B[0m\u001B[0;34m\u001B[0m\u001B[0;34m\u001B[0m\u001B[0m\n\u001B[0m\u001B[1;32m    166\u001B[0m \u001B[0;34m\u001B[0m\u001B[0m\n\u001B[1;32m    167\u001B[0m         \u001B[0mpath\u001B[0m \u001B[0;34m=\u001B[0m \u001B[0mosp\u001B[0m\u001B[0;34m.\u001B[0m\u001B[0mjoin\u001B[0m\u001B[0;34m(\u001B[0m\u001B[0mself\u001B[0m\u001B[0;34m.\u001B[0m\u001B[0mprocessed_dir\u001B[0m\u001B[0;34m,\u001B[0m \u001B[0;34m'pre_transform.pt'\u001B[0m\u001B[0;34m)\u001B[0m\u001B[0;34m\u001B[0m\u001B[0;34m\u001B[0m\u001B[0m\n",
      "\u001B[0;32m~/anaconda3/envs/TSP-SC/lib/python3.9/site-packages/torch_geometric/datasets/faust.py\u001B[0m in \u001B[0;36mprocess\u001B[0;34m(self)\u001B[0m\n\u001B[1;32m     74\u001B[0m         \u001B[0mdata_list\u001B[0m \u001B[0;34m=\u001B[0m \u001B[0;34m[\u001B[0m\u001B[0;34m]\u001B[0m\u001B[0;34m\u001B[0m\u001B[0;34m\u001B[0m\u001B[0m\n\u001B[1;32m     75\u001B[0m         \u001B[0;32mfor\u001B[0m \u001B[0mi\u001B[0m \u001B[0;32min\u001B[0m \u001B[0mrange\u001B[0m\u001B[0;34m(\u001B[0m\u001B[0;36m100\u001B[0m\u001B[0;34m)\u001B[0m\u001B[0;34m:\u001B[0m\u001B[0;34m\u001B[0m\u001B[0;34m\u001B[0m\u001B[0m\n\u001B[0;32m---> 76\u001B[0;31m             \u001B[0mdata\u001B[0m \u001B[0;34m=\u001B[0m \u001B[0mread_ply\u001B[0m\u001B[0;34m(\u001B[0m\u001B[0mpath\u001B[0m\u001B[0;34m.\u001B[0m\u001B[0mformat\u001B[0m\u001B[0;34m(\u001B[0m\u001B[0mi\u001B[0m\u001B[0;34m)\u001B[0m\u001B[0;34m)\u001B[0m\u001B[0;34m\u001B[0m\u001B[0;34m\u001B[0m\u001B[0m\n\u001B[0m\u001B[1;32m     77\u001B[0m             \u001B[0mdata\u001B[0m\u001B[0;34m.\u001B[0m\u001B[0my\u001B[0m \u001B[0;34m=\u001B[0m \u001B[0mtorch\u001B[0m\u001B[0;34m.\u001B[0m\u001B[0mtensor\u001B[0m\u001B[0;34m(\u001B[0m\u001B[0;34m[\u001B[0m\u001B[0mi\u001B[0m \u001B[0;34m%\u001B[0m \u001B[0;36m10\u001B[0m\u001B[0;34m]\u001B[0m\u001B[0;34m,\u001B[0m \u001B[0mdtype\u001B[0m\u001B[0;34m=\u001B[0m\u001B[0mtorch\u001B[0m\u001B[0;34m.\u001B[0m\u001B[0mlong\u001B[0m\u001B[0;34m)\u001B[0m\u001B[0;34m\u001B[0m\u001B[0;34m\u001B[0m\u001B[0m\n\u001B[1;32m     78\u001B[0m             \u001B[0;32mif\u001B[0m \u001B[0mself\u001B[0m\u001B[0;34m.\u001B[0m\u001B[0mpre_filter\u001B[0m \u001B[0;32mis\u001B[0m \u001B[0;32mnot\u001B[0m \u001B[0;32mNone\u001B[0m \u001B[0;32mand\u001B[0m \u001B[0;32mnot\u001B[0m \u001B[0mself\u001B[0m\u001B[0;34m.\u001B[0m\u001B[0mpre_filter\u001B[0m\u001B[0;34m(\u001B[0m\u001B[0mdata\u001B[0m\u001B[0;34m)\u001B[0m\u001B[0;34m:\u001B[0m\u001B[0;34m\u001B[0m\u001B[0;34m\u001B[0m\u001B[0m\n",
      "\u001B[0;32m~/anaconda3/envs/TSP-SC/lib/python3.9/site-packages/torch_geometric/io/ply.py\u001B[0m in \u001B[0;36mread_ply\u001B[0;34m(path)\u001B[0m\n\u001B[1;32m     10\u001B[0m \u001B[0;32mdef\u001B[0m \u001B[0mread_ply\u001B[0m\u001B[0;34m(\u001B[0m\u001B[0mpath\u001B[0m\u001B[0;34m)\u001B[0m\u001B[0;34m:\u001B[0m\u001B[0;34m\u001B[0m\u001B[0;34m\u001B[0m\u001B[0m\n\u001B[1;32m     11\u001B[0m     \u001B[0;32mif\u001B[0m \u001B[0mopenmesh\u001B[0m \u001B[0;32mis\u001B[0m \u001B[0;32mNone\u001B[0m\u001B[0;34m:\u001B[0m\u001B[0;34m\u001B[0m\u001B[0;34m\u001B[0m\u001B[0m\n\u001B[0;32m---> 12\u001B[0;31m         \u001B[0;32mraise\u001B[0m \u001B[0mImportError\u001B[0m\u001B[0;34m(\u001B[0m\u001B[0;34m'`read_ply` requires the `openmesh` package.'\u001B[0m\u001B[0;34m)\u001B[0m\u001B[0;34m\u001B[0m\u001B[0;34m\u001B[0m\u001B[0m\n\u001B[0m\u001B[1;32m     13\u001B[0m \u001B[0;34m\u001B[0m\u001B[0m\n\u001B[1;32m     14\u001B[0m     \u001B[0mmesh\u001B[0m \u001B[0;34m=\u001B[0m \u001B[0mopenmesh\u001B[0m\u001B[0;34m.\u001B[0m\u001B[0mread_trimesh\u001B[0m\u001B[0;34m(\u001B[0m\u001B[0mpath\u001B[0m\u001B[0;34m)\u001B[0m\u001B[0;34m\u001B[0m\u001B[0;34m\u001B[0m\u001B[0m\n",
      "\u001B[0;31mImportError\u001B[0m: `read_ply` requires the `openmesh` package."
     ]
    }
   ],
   "source": [
    "mesh = torch_geometric.datasets.FAUST(data_folder)"
   ]
  },
  {
   "cell_type": "code",
   "execution_count": null,
   "metadata": {
    "executionInfo": {
     "elapsed": 23,
     "status": "aborted",
     "timestamp": 1628702762639,
     "user": {
      "displayName": "donato crisostomi",
      "photoUrl": "https://lh3.googleusercontent.com/a-/AOh14GgPF6gIkQREu4fSPb3tb-jWgteqPZKF_Nfz42N5Bw=s64",
      "userId": "08389014917835436028"
     },
     "user_tz": -120
    },
    "id": "m1nIsyZfrceK"
   },
   "outputs": [],
   "source": [
    "print(mesh)\n",
    "triangles = mesh.faces\n",
    "positions = mesh.vertices\n",
    "num_triangles = triangles.shape[0]\n",
    "num_vertices = positions.shape[0]"
   ]
  },
  {
   "cell_type": "markdown",
   "metadata": {
    "id": "ODs260HHrceL"
   },
   "source": [
    "### Plot"
   ]
  },
  {
   "cell_type": "code",
   "execution_count": null,
   "metadata": {
    "executionInfo": {
     "elapsed": 25,
     "status": "aborted",
     "timestamp": 1628702762641,
     "user": {
      "displayName": "donato crisostomi",
      "photoUrl": "https://lh3.googleusercontent.com/a-/AOh14GgPF6gIkQREu4fSPb3tb-jWgteqPZKF_Nfz42N5Bw=s64",
      "userId": "08389014917835436028"
     },
     "user_tz": -120
    },
    "id": "ZaJ7tBberceL"
   },
   "outputs": [],
   "source": [
    "import plotly.figure_factory as ff\n",
    "import numpy as np\n",
    "from scipy.spatial import Delaunay\n",
    "\n",
    "\n",
    "x = positions[:, 0]\n",
    "y = positions[:, 1]\n",
    "z = positions[:, 2]\n",
    "\n",
    "fig = ff.create_trisurf(x=x, y=y, z=z,\n",
    "                         simplices=triangles,\n",
    "                         title=mesh_name, aspectratio=dict(x=1, y=1, z=0.3))\n",
    "fig.show()"
   ]
  },
  {
   "cell_type": "markdown",
   "metadata": {
    "id": "yrgz3thTyljI"
   },
   "source": [
    "## Data sorting"
   ]
  },
  {
   "cell_type": "markdown",
   "metadata": {
    "id": "D3wyAABf7-OB"
   },
   "source": [
    "Define a canonical ordering"
   ]
  },
  {
   "cell_type": "code",
   "execution_count": null,
   "metadata": {
    "executionInfo": {
     "elapsed": 25,
     "status": "aborted",
     "timestamp": 1628702762642,
     "user": {
      "displayName": "donato crisostomi",
      "photoUrl": "https://lh3.googleusercontent.com/a-/AOh14GgPF6gIkQREu4fSPb3tb-jWgteqPZKF_Nfz42N5Bw=s64",
      "userId": "08389014917835436028"
     },
     "user_tz": -120
    },
    "id": "ZNYpkuQ4yk2j"
   },
   "outputs": [],
   "source": [
    "triangles = sorted(triangles, key=lambda tr: (tr[0], tr[1], tr[2]))\n",
    "print(triangles)"
   ]
  },
  {
   "cell_type": "markdown",
   "metadata": {
    "heading_collapsed": true,
    "id": "0KFfoSjHMvUK"
   },
   "source": [
    "# Adding noise"
   ]
  },
  {
   "cell_type": "code",
   "execution_count": null,
   "metadata": {
    "colab": {
     "base_uri": "https://localhost:8080/"
    },
    "executionInfo": {
     "elapsed": 7056,
     "status": "ok",
     "timestamp": 1615451162951,
     "user": {
      "displayName": "donato crisostomi",
      "photoUrl": "https://lh3.googleusercontent.com/a-/AOh14GgPF6gIkQREu4fSPb3tb-jWgteqPZKF_Nfz42N5Bw=s64",
      "userId": "08389014917835436028"
     },
     "user_tz": -60
    },
    "hidden": true,
    "id": "LFctA5_tMxFW",
    "outputId": "1cd7c8ee-d5e6-4eee-de4a-e69c74c231d8"
   },
   "outputs": [
    {
     "name": "stdout",
     "output_type": "stream",
     "text": [
      "[[ 0.687488  -0.0813099 -0.389237 ]\n",
      " [ 0.687488  -0.0813099  0.389237 ]\n",
      " [-0.279168  -0.509094   0.0604992]\n",
      " ...\n",
      " [-0.0214861 -0.492915  -0.349771 ]\n",
      " [-0.0242509 -0.271801  -0.156825 ]\n",
      " [-0.0242509 -0.271801   0.156825 ]]\n",
      "[[ -3.55936734  -5.84102056 -19.44114272]\n",
      " [-18.76973007  -4.81566988  -3.93059377]\n",
      " [ -5.94144547 -12.58811178  -3.57023499]\n",
      " ...\n",
      " [ -9.88617752   5.99593781  -3.60583637]\n",
      " [  9.09820865  -0.57524936  -3.04371078]\n",
      " [  0.67520276   2.04144994  14.29910746]]\n"
     ]
    }
   ],
   "source": [
    "print(positions)\n",
    "sigma = 10\n",
    "noisy_positions = np.random.normal(positions, sigma)\n",
    "print(noisy_positions)"
   ]
  },
  {
   "cell_type": "markdown",
   "metadata": {
    "heading_collapsed": true,
    "id": "09tclH_2QvXJ"
   },
   "source": [
    "# Simplices creation"
   ]
  },
  {
   "cell_type": "markdown",
   "metadata": {
    "hidden": true,
    "id": "DsHM4bU4Xlis"
   },
   "source": [
    "## Create simplices from mesh"
   ]
  },
  {
   "cell_type": "code",
   "execution_count": null,
   "metadata": {
    "hidden": true,
    "id": "t4KTQJn2Xxrr"
   },
   "outputs": [],
   "source": [
    "def create_simplices(triangles):\n",
    "    \"\"\"\n",
    "    input:\n",
    "        triangles: list of triangles T_1, ..., T_n where each T_i is a tensor (3, )\n",
    "                   containing the indices of the nodes that compose the triangle\n",
    "    return:\n",
    "        simplices: dict of dicts, simplices[d] is a dict with the d-dimensional simplices as keys and their corresponding ids as value\n",
    "                   e.g. dict[1] has edges {n_i, n_j} as keys and their corresponding id in the laplacian and boundary matrices as values  \n",
    "    \"\"\"\n",
    "    simplices = {0: {}, 1: {}, 2: {}}\n",
    "\n",
    "    for triangle in triangles:\n",
    "        \n",
    "        nodes = [ node.item() for node in triangle]\n",
    "        node_0, node_1, node_2 = nodes\n",
    "\n",
    "        # need to wrap the simplex in a frozenset to use it as a dict key\n",
    "        triangle_simplex = frozenset([node_0, node_1, node_2])\n",
    "        \n",
    "        # assign a progressive id to the triangles\n",
    "        simplices[2][triangle_simplex] = len(simplices[2])\n",
    "\n",
    "        # all the edges composing the triangle\n",
    "        edges = [ (node_0, node_1), (node_0, node_2), (node_1, node_2) ]\n",
    "        \n",
    "        # give a progressive id to unseen edges\n",
    "        for edge in edges:\n",
    "            edge_simplex = frozenset(edge)\n",
    "            if edge_simplex not in simplices[1]:\n",
    "                simplices[1][edge_simplex] = len(simplices[1])\n",
    "\n",
    "        # give a progressive id to unseen nodes\n",
    "        for node in nodes:\n",
    "            node_simplex = frozenset({node})\n",
    "            if node_simplex not in simplices[0]:\n",
    "                simplices[0][node_simplex] = len(simplices[0])\n",
    "    \n",
    "    return simplices"
   ]
  },
  {
   "cell_type": "code",
   "execution_count": null,
   "metadata": {
    "hidden": true,
    "id": "Quvi33FPeJlE"
   },
   "outputs": [],
   "source": [
    "simplices = create_simplices(triangles)"
   ]
  },
  {
   "cell_type": "markdown",
   "metadata": {
    "hidden": true,
    "id": "t6Gb4arN7uKC"
   },
   "source": [
    "Print some simplices"
   ]
  },
  {
   "cell_type": "code",
   "execution_count": null,
   "metadata": {
    "colab": {
     "base_uri": "https://localhost:8080/"
    },
    "executionInfo": {
     "elapsed": 6227,
     "status": "ok",
     "timestamp": 1615451162953,
     "user": {
      "displayName": "donato crisostomi",
      "photoUrl": "https://lh3.googleusercontent.com/a-/AOh14GgPF6gIkQREu4fSPb3tb-jWgteqPZKF_Nfz42N5Bw=s64",
      "userId": "08389014917835436028"
     },
     "user_tz": -60
    },
    "hidden": true,
    "id": "kFMiQB6b7hpI",
    "outputId": "2de51fa5-1f14-4b44-aa0d-f957755f11bf"
   },
   "outputs": [
    {
     "name": "stdout",
     "output_type": "stream",
     "text": [
      "[(frozenset({0}), 0), (frozenset({3380}), 1), (frozenset({3616}), 2), (frozenset({4377}), 3), (frozenset({421}), 4), (frozenset({1}), 5), (frozenset({422}), 6), (frozenset({4378}), 7), (frozenset({3615}), 8), (frozenset({3379}), 9)]\n",
      "[(frozenset({0, 3380}), 0), (frozenset({0, 3616}), 1), (frozenset({3616, 3380}), 2), (frozenset({0, 4377}), 3), (frozenset({0, 421}), 4), (frozenset({4377, 421}), 5), (frozenset({1, 422}), 6), (frozenset({1, 4378}), 7), (frozenset({4378, 422}), 8), (frozenset({1, 3615}), 9)]\n",
      "[(frozenset({0, 3616, 3380}), 0), (frozenset({0, 4377, 421}), 1), (frozenset({1, 4378, 422}), 2), (frozenset({1, 3379, 3615}), 3), (frozenset({2, 1618, 2718}), 4), (frozenset({2, 2858, 1972}), 5), (frozenset({1617, 3, 2719}), 6), (frozenset({2857, 3, 1971}), 7), (frozenset({4455, 4, 2839}), 8), (frozenset({392, 3283, 4}), 9)]\n"
     ]
    }
   ],
   "source": [
    "for d in range(3):\n",
    "    print(list(simplices[d].items())[0:10])"
   ]
  },
  {
   "cell_type": "markdown",
   "metadata": {
    "heading_collapsed": true,
    "id": "2LhW8OHv8MjZ"
   },
   "source": [
    "# Signal creation"
   ]
  },
  {
   "cell_type": "markdown",
   "metadata": {
    "hidden": true,
    "id": "TaS7qa5MZD8u"
   },
   "source": [
    "## Create signals from mesh"
   ]
  },
  {
   "cell_type": "code",
   "execution_count": null,
   "metadata": {
    "hidden": true,
    "id": "IwMvYU6OZFfN"
   },
   "outputs": [],
   "source": [
    "def create_signals(triangles, positions):\n",
    "    \"\"\"\n",
    "    input:\n",
    "        triangles: list of triangles T_1, ..., T_n where each T_i is a tensor (3, )\n",
    "                   containing the indices of the nodes that compose the triangle\n",
    "    return:\n",
    "        signals: dict of dicts, signals[0] contains the node positions, signal[2] contains the triangle normals \n",
    "    \"\"\"\n",
    "\n",
    "    node_signals, triangle_signals = {}, {}\n",
    "\n",
    "    for triangle in triangles:\n",
    "        \n",
    "        nodes = [ node.item() for node in triangle]\n",
    "\n",
    "        # the signal for each node is its position (x, y, z)\n",
    "        for node in nodes:\n",
    "            node_signals[frozenset({node})] = positions[node]\n",
    "\n",
    "        # the signal for each triangle is its normal (n_x, n_y, n_z)\n",
    "        triangle_normal = compute_normal(positions[nodes])\n",
    "        \n",
    "        triangle_signals[frozenset(nodes)] = triangle_normal\n",
    "    \n",
    "    return node_signals, triangle_signals"
   ]
  },
  {
   "cell_type": "code",
   "execution_count": null,
   "metadata": {
    "hidden": true,
    "id": "ESfstznUZW1W"
   },
   "outputs": [],
   "source": [
    "node_signals, triangle_signals = create_signals(triangles, positions)\n",
    "noisy_node_signals, _ = create_signals(triangles, noisy_positions)"
   ]
  },
  {
   "cell_type": "code",
   "execution_count": null,
   "metadata": {
    "colab": {
     "base_uri": "https://localhost:8080/"
    },
    "executionInfo": {
     "elapsed": 892,
     "status": "ok",
     "timestamp": 1615451197370,
     "user": {
      "displayName": "donato crisostomi",
      "photoUrl": "https://lh3.googleusercontent.com/a-/AOh14GgPF6gIkQREu4fSPb3tb-jWgteqPZKF_Nfz42N5Bw=s64",
      "userId": "08389014917835436028"
     },
     "user_tz": -60
    },
    "hidden": true,
    "id": "ia6x7AIamiFz",
    "outputId": "51dd94b0-b59e-4601-bc1c-a7bf91f3539b"
   },
   "outputs": [
    {
     "name": "stdout",
     "output_type": "stream",
     "text": [
      "[(frozenset({0}), TrackedArray([ 0.687488 , -0.0813099, -0.389237 ])), (frozenset({3380}), TrackedArray([ 0.712342 , -0.0805019, -0.356168 ])), (frozenset({3616}), TrackedArray([ 0.706065, -0.102015, -0.403346])), (frozenset({4377}), TrackedArray([ 0.660802 , -0.0815793, -0.421255 ])), (frozenset({421}), TrackedArray([ 0.66698  , -0.0638557, -0.373593 ])), (frozenset({1}), TrackedArray([ 0.687488 , -0.0813099,  0.389237 ])), (frozenset({422}), TrackedArray([ 0.66698  , -0.0638557,  0.373593 ])), (frozenset({4378}), TrackedArray([ 0.660802 , -0.0815793,  0.421255 ])), (frozenset({3615}), TrackedArray([ 0.706065, -0.102015,  0.403346])), (frozenset({3379}), TrackedArray([ 0.712342 , -0.0805019,  0.356168 ]))]\n",
      "[(frozenset({0, 3616, 3380}), array([ 0.52179101,  0.74784546, -0.41044038])), (frozenset({0, 4377, 421}), array([ 0.42747172,  0.82783909, -0.36324974])), (frozenset({1, 4378, 422}), array([0.42747172, 0.82783909, 0.36324974])), (frozenset({1, 3379, 3615}), array([0.52179101, 0.74784546, 0.41044038])), (frozenset({2, 1618, 2718}), array([ 0.06566731, -0.99782038, -0.00650304])), (frozenset({2, 2858, 1972}), array([ 0.19521977, -0.98023012, -0.03222037])), (frozenset({1617, 3, 2719}), array([ 0.06566731, -0.99782038,  0.00650304])), (frozenset({2857, 3, 1971}), array([ 0.19521977, -0.98023012,  0.03222037])), (frozenset({4455, 4, 2839}), array([ 0.20529869, -0.94617517,  0.25020989])), (frozenset({392, 3283, 4}), array([ 0.25919594, -0.89556977,  0.36162445]))]\n"
     ]
    }
   ],
   "source": [
    "assert len(triangle_signals) == num_triangles\n",
    "print(list(node_signals.items())[0:10])\n",
    "print(list(triangle_signals.items())[0:10])"
   ]
  },
  {
   "cell_type": "markdown",
   "metadata": {
    "heading_collapsed": true,
    "id": "7rUnJbFSuTHc"
   },
   "source": [
    "# Create graph from mesh"
   ]
  },
  {
   "cell_type": "code",
   "execution_count": null,
   "metadata": {
    "hidden": true,
    "id": "9YEgrOyhXmwM"
   },
   "outputs": [],
   "source": [
    "g = nx.Graph()"
   ]
  },
  {
   "cell_type": "code",
   "execution_count": null,
   "metadata": {
    "hidden": true,
    "id": "1u5V4D6mubrk"
   },
   "outputs": [],
   "source": [
    "for triangle in triangles:\n",
    "    \n",
    "    nodes = [ node.item() for node in triangle]\n",
    "    node_0, node_1, node_2 = nodes\n",
    "    edges = [ (node_0, node_1), (node_1, node_2), (node_2, node_0)]\n",
    "    \n",
    "    for edge in edges:\n",
    "        g.add_edge(edge[0], edge[1])"
   ]
  },
  {
   "cell_type": "code",
   "execution_count": null,
   "metadata": {
    "hidden": true,
    "id": "3hPaic-lX_M4"
   },
   "outputs": [],
   "source": [
    "node_positions_mapping = { node: {'x': pos[0].item(), 'y': pos[1].item(), 'z': pos[2].item()} for node, pos in enumerate(positions) }"
   ]
  },
  {
   "cell_type": "code",
   "execution_count": null,
   "metadata": {
    "hidden": true,
    "id": "MgIS6WsyYSU0"
   },
   "outputs": [],
   "source": [
    "nx.set_node_attributes(g, node_positions_mapping)"
   ]
  },
  {
   "cell_type": "code",
   "execution_count": null,
   "metadata": {
    "hidden": true,
    "id": "9xntQPnVauus"
   },
   "outputs": [],
   "source": [
    "# nx.draw(g)"
   ]
  },
  {
   "cell_type": "markdown",
   "metadata": {
    "heading_collapsed": true,
    "id": "muRwWaOEbauW"
   },
   "source": [
    "# Create incidence matrices"
   ]
  },
  {
   "cell_type": "code",
   "execution_count": null,
   "metadata": {
    "hidden": true,
    "id": "IHsIb85Huu_O"
   },
   "outputs": [],
   "source": [
    "def build_boundaries(simplices):\n",
    "    \"\"\"\n",
    "    Build the boundary operators from a list of simplices.\n",
    "\n",
    "    Parameters\n",
    "    ----------\n",
    "    simplices:  \n",
    "                List of dictionaries, one per dimension d. \n",
    "                The size of the dictionary is the number of d-simplices.\n",
    "                The dictionary's keys are sets (of size d+1) of the vertices that constitute the d-simplices.\n",
    "                The dictionary's values are the indexes of the simplices in the boundary and Laplacian matrices.\n",
    "    Returns\n",
    "    -------\n",
    "    boundaries: \n",
    "                List of boundary operators, one per dimension: i-th boundary is in (i-1)-th position\n",
    "    \"\"\"\n",
    "    boundaries = list()\n",
    "\n",
    "    for dim in range(1, len(simplices)):\n",
    "        idx_simplices, idx_faces, values = [], [], []\n",
    "\n",
    "        # simplex is a frozenset of vertices, idx_simplex is the integer progressive id of the simplex\n",
    "        for simplex, idx_simplex in simplices[dim].items():\n",
    "            simplices_list_sorted = np.sort(list(simplex))\n",
    "            \n",
    "            for i, left_out in enumerate(simplices_list_sorted):\n",
    "                # linear combination of the face of the simplex obtained by removing\n",
    "                # the i-th vertex\n",
    "                idx_simplices.append(idx_simplex)\n",
    "                values.append((-1)**i)\n",
    "                face = simplex.difference({left_out})\n",
    "                idx_faces.append(simplices[dim-1][face])\n",
    "                \n",
    "        assert len(values) == (dim+1) * len(simplices[dim])\n",
    "        boundary = coo_matrix((values, (idx_faces, idx_simplices)),\n",
    "                                     dtype=np.float32,\n",
    "                                     shape=(len(simplices[dim-1]), len(simplices[dim])))\n",
    "        boundaries.append(boundary)\n",
    "    return boundaries"
   ]
  },
  {
   "cell_type": "code",
   "execution_count": null,
   "metadata": {
    "colab": {
     "base_uri": "https://localhost:8080/"
    },
    "executionInfo": {
     "elapsed": 2026,
     "status": "ok",
     "timestamp": 1615451201505,
     "user": {
      "displayName": "donato crisostomi",
      "photoUrl": "https://lh3.googleusercontent.com/a-/AOh14GgPF6gIkQREu4fSPb3tb-jWgteqPZKF_Nfz42N5Bw=s64",
      "userId": "08389014917835436028"
     },
     "user_tz": -60
    },
    "hidden": true,
    "id": "pl8UyM89bOrL",
    "outputId": "44344b90-2eda-4e88-90f8-54f28a89f4d1"
   },
   "outputs": [
    {
     "name": "stdout",
     "output_type": "stream",
     "text": [
      "[[-1. -1.  0. ...  0.  0.  0.]\n",
      " [ 1.  0. -1. ...  0.  0.  0.]\n",
      " [ 0.  1.  1. ...  0.  0.  0.]\n",
      " ...\n",
      " [ 0.  0.  0. ...  0.  0.  0.]\n",
      " [ 0.  0.  0. ...  0.  0.  0.]\n",
      " [ 0.  0.  0. ...  0.  0.  0.]]\n"
     ]
    }
   ],
   "source": [
    "boundaries = build_boundaries(simplices)\n",
    "print(boundaries[0].todense())"
   ]
  },
  {
   "cell_type": "markdown",
   "metadata": {
    "heading_collapsed": true,
    "id": "SVSXQxbaYHxz"
   },
   "source": [
    "# Create Laplacians"
   ]
  },
  {
   "cell_type": "code",
   "execution_count": null,
   "metadata": {
    "hidden": true,
    "id": "dcOSGUW2YJhe"
   },
   "outputs": [],
   "source": [
    "def build_laplacians(boundaries):\n",
    "    \"\"\"Build the Laplacian operators from the boundary operators.\n",
    "\n",
    "    Parameters\n",
    "    ----------\n",
    "    boundaries: list of sparse matrices\n",
    "       List of boundary operators, one per dimension.\n",
    "\n",
    "    Returns\n",
    "    -------\n",
    "    laplacians: list of sparse matrices\n",
    "       List of Laplacian operators, one per dimension: laplacian of degree i is in the i-th position\n",
    "    \"\"\"\n",
    "    laplacians = list()\n",
    "    # graph Laplacian L0\n",
    "    upper = coo_matrix(boundaries[0] @ boundaries[0].T)\n",
    "    laplacians.append(upper)\n",
    "\n",
    "    for dim in range(len(boundaries)-1):\n",
    "        # lower Laplacian B_{k}^T B_k \n",
    "        lower = boundaries[dim].T @ boundaries[dim]\n",
    "        # upper Laplacian B_{k+1} B_{k}^T \n",
    "        upper = boundaries[dim+1] @ boundaries[dim+1].T\n",
    "        # L_k = L_k_lower + L_k_upper\n",
    "        laplacians.append(coo_matrix(lower + upper))\n",
    "\n",
    "    # last Laplacian L_K\n",
    "    lower = boundaries[-1].T @ boundaries[-1]\n",
    "    laplacians.append(coo_matrix(lower))\n",
    "    return laplacians"
   ]
  },
  {
   "cell_type": "code",
   "execution_count": null,
   "metadata": {
    "hidden": true,
    "id": "u3P7BhrpYKYI"
   },
   "outputs": [],
   "source": [
    "laplacians = build_laplacians(boundaries)"
   ]
  },
  {
   "cell_type": "markdown",
   "metadata": {
    "heading_collapsed": true,
    "id": "xwWrv6f5o50z"
   },
   "source": [
    "# Save"
   ]
  },
  {
   "cell_type": "code",
   "execution_count": null,
   "metadata": {
    "hidden": true,
    "id": "79jJS5Yk6MoL"
   },
   "outputs": [],
   "source": [
    "def save_dict(dictionary, path):\n",
    "    keys = list(dictionary.keys())\n",
    "    \n",
    "    values = [tens for tens in list(dictionary.values())]\n",
    "    values = np.array(values)\n",
    "    keys_path = path + '_keys'\n",
    "    values_path = path + '_values'\n",
    "\n",
    "    with open(keys_path, 'wb+') as f:\n",
    "        dill.dump(keys, f)\n",
    "    np.save(values_path, values)"
   ]
  },
  {
   "cell_type": "code",
   "execution_count": null,
   "metadata": {
    "hidden": true,
    "id": "90E8ohTiqAuE"
   },
   "outputs": [],
   "source": [
    "prefix = 'dummy_' if use_dummy_data else ''\n",
    "laplacian_path = f'{data_folder}/{prefix}laplacians.npy'\n",
    "boundaries_path = f'{data_folder}/{prefix}boundaries.npy'\n",
    "positions_path = f'{data_folder}/{prefix}positions'\n",
    "noisy_positions_path = f'{data_folder}/{prefix}noisy_positions'\n",
    "original_positions_path = f'{data_folder}/{prefix}original_positions'\n",
    "normals_path = f'{data_folder}/{prefix}normals'\n",
    "triangles_path = f'{data_folder}/{prefix}triangles.npy'"
   ]
  },
  {
   "cell_type": "code",
   "execution_count": null,
   "metadata": {
    "hidden": true,
    "id": "IwJlJBvLo4x8"
   },
   "outputs": [],
   "source": [
    "np.save(laplacian_path, laplacians)\n",
    "np.save(boundaries_path, boundaries)    "
   ]
  },
  {
   "cell_type": "code",
   "execution_count": null,
   "metadata": {
    "hidden": true,
    "id": "bT4DR_LhjT6x"
   },
   "outputs": [],
   "source": [
    "with open(triangles_path, 'wb+') as f:\n",
    "    dill.dump(triangles, f)\n",
    "\n",
    "with open(original_positions_path, 'wb+') as f:\n",
    "    dill.dump(positions, f)"
   ]
  },
  {
   "cell_type": "code",
   "execution_count": null,
   "metadata": {
    "hidden": true,
    "id": "TKB64deWhLjL"
   },
   "outputs": [],
   "source": [
    "save_dict(node_signals, positions_path)\n",
    "save_dict(triangle_signals, normals_path)\n",
    "save_dict(noisy_node_signals, noisy_positions_path)"
   ]
  },
  {
   "cell_type": "code",
   "execution_count": null,
   "metadata": {
    "hidden": true,
    "id": "q_qQsfdAZc60"
   },
   "outputs": [],
   "source": []
  }
 ],
 "metadata": {
  "accelerator": "GPU",
  "colab": {
   "authorship_tag": "ABX9TyOSCBfVzDzoRV0/eyScb06U",
   "collapsed_sections": [
    "o7kRPCON3w7h",
    "DJdos1C2V5wz",
    "BckqCxWh_uCb",
    "_NCR4Gyn_v1U",
    "I4lBAkl4ICux",
    "WPDUFSOW1zcL",
    "Qh02M0X2pX-x",
    "EctXvuSBqmLN",
    "rgwlKr_CYdgV",
    "yrgz3thTyljI",
    "0KFfoSjHMvUK",
    "09tclH_2QvXJ",
    "DsHM4bU4Xlis",
    "2LhW8OHv8MjZ",
    "TaS7qa5MZD8u",
    "7rUnJbFSuTHc",
    "muRwWaOEbauW",
    "SVSXQxbaYHxz",
    "xwWrv6f5o50z"
   ],
   "name": "data_preparation.ipynb",
   "provenance": []
  },
  "kernelspec": {
   "display_name": "Python 3",
   "language": "python",
   "name": "python3"
  },
  "language_info": {
   "codemirror_mode": {
    "name": "ipython",
    "version": 3
   },
   "file_extension": ".py",
   "mimetype": "text/x-python",
   "name": "python",
   "nbconvert_exporter": "python",
   "pygments_lexer": "ipython3",
   "version": "3.9.6"
  },
  "latex_envs": {
   "LaTeX_envs_menu_present": true,
   "autoclose": false,
   "autocomplete": true,
   "bibliofile": "biblio.bib",
   "cite_by": "apalike",
   "current_citInitial": 1,
   "eqLabelWithNumbers": true,
   "eqNumInitial": 1,
   "hotkeys": {
    "equation": "Ctrl-E",
    "itemize": "Ctrl-I"
   },
   "labels_anchors": false,
   "latex_user_defs": false,
   "report_style_numbering": false,
   "user_envs_cfg": false
  }
 },
 "nbformat": 4,
 "nbformat_minor": 1
}