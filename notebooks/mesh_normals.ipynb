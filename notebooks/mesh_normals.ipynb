{
 "cells": [
  {
   "cell_type": "markdown",
   "metadata": {
    "id": "E9vEZZ15BbgE"
   },
   "source": [
    "# <center> Mesh Normals </center>\n",
    "\n",
    "---\n",
    "\n"
   ]
  },
  {
   "cell_type": "markdown",
   "metadata": {
    "id": "JUXyuZT0JJQo"
   },
   "source": [
    "# Setup"
   ]
  },
  {
   "cell_type": "markdown",
   "metadata": {
    "id": "o7kRPCON3w7h"
   },
   "source": [
    "## Prevent colab from disconnecting"
   ]
  },
  {
   "cell_type": "markdown",
   "metadata": {
    "id": "6BF6dRzc3vds"
   },
   "source": [
    "```\n",
    "function ClickConnect(){\n",
    "  console.log(\"Connnect Clicked - Start\"); \n",
    "  document.querySelector(\"#top-toolbar > colab-connect-button\").shadowRoot.querySelector(\"#connect\").click();\n",
    "  console.log(\"Connnect Clicked - End\"); \n",
    "};\n",
    "setInterval(ClickConnect, 60000)\n",
    "```"
   ]
  },
  {
   "cell_type": "markdown",
   "metadata": {
    "id": "SjQSz-wa7H_l"
   },
   "source": [
    "## Installation"
   ]
  },
  {
   "cell_type": "markdown",
   "metadata": {
    "id": "DJdos1C2V5wz"
   },
   "source": [
    "### Trimesh"
   ]
  },
  {
   "cell_type": "code",
   "execution_count": 1,
   "metadata": {
    "colab": {
     "base_uri": "https://localhost:8080/"
    },
    "executionInfo": {
     "elapsed": 3749,
     "status": "ok",
     "timestamp": 1628626803809,
     "user": {
      "displayName": "donato crisostomi",
      "photoUrl": "https://lh3.googleusercontent.com/a-/AOh14GgPF6gIkQREu4fSPb3tb-jWgteqPZKF_Nfz42N5Bw=s64",
      "userId": "08389014917835436028"
     },
     "user_tz": -120
    },
    "id": "T9Kzfx57UVMR",
    "outputId": "67bcee1d-2ba1-4c32-95da-1cce11969233"
   },
   "outputs": [
    {
     "name": "stdout",
     "output_type": "stream",
     "text": [
      "Collecting trimesh\n",
      "  Downloading trimesh-3.9.26-py3-none-any.whl (634 kB)\n",
      "\u001b[?25l\r",
      "\u001b[K     |▌                               | 10 kB 37.0 MB/s eta 0:00:01\r",
      "\u001b[K     |█                               | 20 kB 39.9 MB/s eta 0:00:01\r",
      "\u001b[K     |█▌                              | 30 kB 21.6 MB/s eta 0:00:01\r",
      "\u001b[K     |██                              | 40 kB 18.1 MB/s eta 0:00:01\r",
      "\u001b[K     |██▋                             | 51 kB 10.1 MB/s eta 0:00:01\r",
      "\u001b[K     |███                             | 61 kB 10.0 MB/s eta 0:00:01\r",
      "\u001b[K     |███▋                            | 71 kB 9.2 MB/s eta 0:00:01\r",
      "\u001b[K     |████▏                           | 81 kB 10.4 MB/s eta 0:00:01\r",
      "\u001b[K     |████▋                           | 92 kB 10.6 MB/s eta 0:00:01\r",
      "\u001b[K     |█████▏                          | 102 kB 9.5 MB/s eta 0:00:01\r",
      "\u001b[K     |█████▊                          | 112 kB 9.5 MB/s eta 0:00:01\r",
      "\u001b[K     |██████▏                         | 122 kB 9.5 MB/s eta 0:00:01\r",
      "\u001b[K     |██████▊                         | 133 kB 9.5 MB/s eta 0:00:01\r",
      "\u001b[K     |███████▎                        | 143 kB 9.5 MB/s eta 0:00:01\r",
      "\u001b[K     |███████▊                        | 153 kB 9.5 MB/s eta 0:00:01\r",
      "\u001b[K     |████████▎                       | 163 kB 9.5 MB/s eta 0:00:01\r",
      "\u001b[K     |████████▊                       | 174 kB 9.5 MB/s eta 0:00:01\r",
      "\u001b[K     |█████████▎                      | 184 kB 9.5 MB/s eta 0:00:01\r",
      "\u001b[K     |█████████▉                      | 194 kB 9.5 MB/s eta 0:00:01\r",
      "\u001b[K     |██████████▎                     | 204 kB 9.5 MB/s eta 0:00:01\r",
      "\u001b[K     |██████████▉                     | 215 kB 9.5 MB/s eta 0:00:01\r",
      "\u001b[K     |███████████▍                    | 225 kB 9.5 MB/s eta 0:00:01\r",
      "\u001b[K     |███████████▉                    | 235 kB 9.5 MB/s eta 0:00:01\r",
      "\u001b[K     |████████████▍                   | 245 kB 9.5 MB/s eta 0:00:01\r",
      "\u001b[K     |█████████████                   | 256 kB 9.5 MB/s eta 0:00:01\r",
      "\u001b[K     |█████████████▍                  | 266 kB 9.5 MB/s eta 0:00:01\r",
      "\u001b[K     |██████████████                  | 276 kB 9.5 MB/s eta 0:00:01\r",
      "\u001b[K     |██████████████▌                 | 286 kB 9.5 MB/s eta 0:00:01\r",
      "\u001b[K     |███████████████                 | 296 kB 9.5 MB/s eta 0:00:01\r",
      "\u001b[K     |███████████████▌                | 307 kB 9.5 MB/s eta 0:00:01\r",
      "\u001b[K     |████████████████                | 317 kB 9.5 MB/s eta 0:00:01\r",
      "\u001b[K     |████████████████▌               | 327 kB 9.5 MB/s eta 0:00:01\r",
      "\u001b[K     |█████████████████               | 337 kB 9.5 MB/s eta 0:00:01\r",
      "\u001b[K     |█████████████████▌              | 348 kB 9.5 MB/s eta 0:00:01\r",
      "\u001b[K     |██████████████████              | 358 kB 9.5 MB/s eta 0:00:01\r",
      "\u001b[K     |██████████████████▋             | 368 kB 9.5 MB/s eta 0:00:01\r",
      "\u001b[K     |███████████████████             | 378 kB 9.5 MB/s eta 0:00:01\r",
      "\u001b[K     |███████████████████▋            | 389 kB 9.5 MB/s eta 0:00:01\r",
      "\u001b[K     |████████████████████▏           | 399 kB 9.5 MB/s eta 0:00:01\r",
      "\u001b[K     |████████████████████▋           | 409 kB 9.5 MB/s eta 0:00:01\r",
      "\u001b[K     |█████████████████████▏          | 419 kB 9.5 MB/s eta 0:00:01\r",
      "\u001b[K     |█████████████████████▊          | 430 kB 9.5 MB/s eta 0:00:01\r",
      "\u001b[K     |██████████████████████▏         | 440 kB 9.5 MB/s eta 0:00:01\r",
      "\u001b[K     |██████████████████████▊         | 450 kB 9.5 MB/s eta 0:00:01\r",
      "\u001b[K     |███████████████████████▎        | 460 kB 9.5 MB/s eta 0:00:01\r",
      "\u001b[K     |███████████████████████▊        | 471 kB 9.5 MB/s eta 0:00:01\r",
      "\u001b[K     |████████████████████████▎       | 481 kB 9.5 MB/s eta 0:00:01\r",
      "\u001b[K     |████████████████████████▊       | 491 kB 9.5 MB/s eta 0:00:01\r",
      "\u001b[K     |█████████████████████████▎      | 501 kB 9.5 MB/s eta 0:00:01\r",
      "\u001b[K     |█████████████████████████▉      | 512 kB 9.5 MB/s eta 0:00:01\r",
      "\u001b[K     |██████████████████████████▎     | 522 kB 9.5 MB/s eta 0:00:01\r",
      "\u001b[K     |██████████████████████████▉     | 532 kB 9.5 MB/s eta 0:00:01\r",
      "\u001b[K     |███████████████████████████▍    | 542 kB 9.5 MB/s eta 0:00:01\r",
      "\u001b[K     |███████████████████████████▉    | 552 kB 9.5 MB/s eta 0:00:01\r",
      "\u001b[K     |████████████████████████████▍   | 563 kB 9.5 MB/s eta 0:00:01\r",
      "\u001b[K     |█████████████████████████████   | 573 kB 9.5 MB/s eta 0:00:01\r",
      "\u001b[K     |█████████████████████████████▍  | 583 kB 9.5 MB/s eta 0:00:01\r",
      "\u001b[K     |██████████████████████████████  | 593 kB 9.5 MB/s eta 0:00:01\r",
      "\u001b[K     |██████████████████████████████▌ | 604 kB 9.5 MB/s eta 0:00:01\r",
      "\u001b[K     |███████████████████████████████ | 614 kB 9.5 MB/s eta 0:00:01\r",
      "\u001b[K     |███████████████████████████████▌| 624 kB 9.5 MB/s eta 0:00:01\r",
      "\u001b[K     |████████████████████████████████| 634 kB 9.5 MB/s eta 0:00:01\r",
      "\u001b[K     |████████████████████████████████| 634 kB 9.5 MB/s \n",
      "\u001b[?25hRequirement already satisfied: numpy in /usr/local/lib/python3.7/dist-packages (from trimesh) (1.19.5)\n",
      "Requirement already satisfied: setuptools in /usr/local/lib/python3.7/dist-packages (from trimesh) (57.2.0)\n",
      "Installing collected packages: trimesh\n",
      "Successfully installed trimesh-3.9.26\n"
     ]
    }
   ],
   "source": [
    "!pip install trimesh --upgrade"
   ]
  },
  {
   "cell_type": "markdown",
   "metadata": {
    "id": "BckqCxWh_uCb"
   },
   "source": [
    "### Pytorch"
   ]
  },
  {
   "cell_type": "code",
   "execution_count": 2,
   "metadata": {
    "colab": {
     "base_uri": "https://localhost:8080/"
    },
    "executionInfo": {
     "elapsed": 2737,
     "status": "ok",
     "timestamp": 1628626806541,
     "user": {
      "displayName": "donato crisostomi",
      "photoUrl": "https://lh3.googleusercontent.com/a-/AOh14GgPF6gIkQREu4fSPb3tb-jWgteqPZKF_Nfz42N5Bw=s64",
      "userId": "08389014917835436028"
     },
     "user_tz": -120
    },
    "id": "AunUWjt6_RVr",
    "outputId": "83d919b3-5ba5-411c-a036-71e1d8b58981"
   },
   "outputs": [
    {
     "name": "stdout",
     "output_type": "stream",
     "text": [
      "Requirement already satisfied: torch in /usr/local/lib/python3.7/dist-packages (1.9.0+cu102)\n",
      "Requirement already satisfied: typing-extensions in /usr/local/lib/python3.7/dist-packages (from torch) (3.7.4.3)\n"
     ]
    }
   ],
   "source": [
    "!pip install torch"
   ]
  },
  {
   "cell_type": "code",
   "execution_count": 3,
   "metadata": {
    "colab": {
     "base_uri": "https://localhost:8080/"
    },
    "executionInfo": {
     "elapsed": 3779,
     "status": "ok",
     "timestamp": 1628626810311,
     "user": {
      "displayName": "donato crisostomi",
      "photoUrl": "https://lh3.googleusercontent.com/a-/AOh14GgPF6gIkQREu4fSPb3tb-jWgteqPZKF_Nfz42N5Bw=s64",
      "userId": "08389014917835436028"
     },
     "user_tz": -120
    },
    "id": "slrlwNfI_2Y3",
    "outputId": "5b17081b-a7f0-45fb-c0c4-6ad01f9403ed"
   },
   "outputs": [
    {
     "name": "stdout",
     "output_type": "stream",
     "text": [
      "Running torch version 1.9.0, with CUDA version 102\n"
     ]
    }
   ],
   "source": [
    "import torch\n",
    "\n",
    "TORCH_VERSION = torch.__version__[:5]\n",
    "CUDA_VERSION = torch.version.cuda.replace('.','')\n",
    "print(f'Running torch version {TORCH_VERSION}, with CUDA version {CUDA_VERSION}')"
   ]
  },
  {
   "cell_type": "markdown",
   "metadata": {
    "id": "_BNrUWds7J0g"
   },
   "source": [
    "## Imports"
   ]
  },
  {
   "cell_type": "code",
   "execution_count": 4,
   "metadata": {
    "executionInfo": {
     "elapsed": 955,
     "status": "ok",
     "timestamp": 1628626811255,
     "user": {
      "displayName": "donato crisostomi",
      "photoUrl": "https://lh3.googleusercontent.com/a-/AOh14GgPF6gIkQREu4fSPb3tb-jWgteqPZKF_Nfz42N5Bw=s64",
      "userId": "08389014917835436028"
     },
     "user_tz": -120
    },
    "id": "3g2LlW_PVpqA"
   },
   "outputs": [],
   "source": [
    "# deep learning\n",
    "import torch\n",
    "import torch.nn.functional as F\n",
    "import torch.nn as nn\n",
    "import torch.optim\n",
    "import torch.utils.data as data\n",
    "torch.set_printoptions(threshold=10000)\n",
    "\n",
    "# meshes and graphs\n",
    "import trimesh\n",
    "import networkx as nx\n",
    "\n",
    "# data\n",
    "import pandas as pd\n",
    "import numpy as np\n",
    "import scipy\n",
    "from scipy.sparse import linalg\n",
    "from scipy.sparse import coo_matrix\n",
    "from scipy.linalg import eig\n",
    "from scipy.linalg import null_space\n",
    "\n",
    "# plots\n",
    "import matplotlib.pyplot as plt\n",
    "import seaborn as sns\n",
    "\n",
    "# i/o\n",
    "import dill\n",
    "import json\n",
    "\n",
    "# misc\n",
    "import os\n",
    "import math\n",
    "import random\n",
    "from typing import *\n",
    "from pprint import *\n",
    "from tqdm.notebook import tqdm"
   ]
  },
  {
   "cell_type": "markdown",
   "metadata": {
    "id": "I4lBAkl4ICux"
   },
   "source": [
    "## Google Drive"
   ]
  },
  {
   "cell_type": "code",
   "execution_count": 5,
   "metadata": {
    "colab": {
     "base_uri": "https://localhost:8080/"
    },
    "executionInfo": {
     "elapsed": 17615,
     "status": "ok",
     "timestamp": 1628626828862,
     "user": {
      "displayName": "donato crisostomi",
      "photoUrl": "https://lh3.googleusercontent.com/a-/AOh14GgPF6gIkQREu4fSPb3tb-jWgteqPZKF_Nfz42N5Bw=s64",
      "userId": "08389014917835436028"
     },
     "user_tz": -120
    },
    "id": "GWn8O0z-xetr",
    "outputId": "8a1e422a-3322-49ed-9f4f-3f212350865d"
   },
   "outputs": [
    {
     "name": "stdout",
     "output_type": "stream",
     "text": [
      "Mounted at /content/drive\n"
     ]
    }
   ],
   "source": [
    "from google.colab import drive\n",
    "GDRIVE_HOME = '/content/drive'\n",
    "\n",
    "drive.mount(GDRIVE_HOME, force_remount=True)"
   ]
  },
  {
   "cell_type": "markdown",
   "metadata": {
    "id": "WPDUFSOW1zcL"
   },
   "source": [
    "## Configuration"
   ]
  },
  {
   "cell_type": "code",
   "execution_count": 6,
   "metadata": {
    "executionInfo": {
     "elapsed": 31,
     "status": "ok",
     "timestamp": 1628626828865,
     "user": {
      "displayName": "donato crisostomi",
      "photoUrl": "https://lh3.googleusercontent.com/a-/AOh14GgPF6gIkQREu4fSPb3tb-jWgteqPZKF_Nfz42N5Bw=s64",
      "userId": "08389014917835436028"
     },
     "user_tz": -120
    },
    "id": "ncM_EuspxMRl"
   },
   "outputs": [],
   "source": [
    "device = torch.device('cuda') if torch.cuda.is_available() else torch.device('cpu')"
   ]
  },
  {
   "cell_type": "code",
   "execution_count": 7,
   "metadata": {
    "executionInfo": {
     "elapsed": 26,
     "status": "ok",
     "timestamp": 1628626828866,
     "user": {
      "displayName": "donato crisostomi",
      "photoUrl": "https://lh3.googleusercontent.com/a-/AOh14GgPF6gIkQREu4fSPb3tb-jWgteqPZKF_Nfz42N5Bw=s64",
      "userId": "08389014917835436028"
     },
     "user_tz": -120
    },
    "id": "8xpBIgkTlFA-"
   },
   "outputs": [],
   "source": [
    "PROJECT_HOME = os.path.join(GDRIVE_HOME, 'MyDrive/TSP-SC/code/mesh normals')\n",
    "data_folder = os.path.join(PROJECT_HOME, f'data')"
   ]
  },
  {
   "cell_type": "markdown",
   "metadata": {
    "id": "_EceyySrrsM3"
   },
   "source": [
    "## Run settings"
   ]
  },
  {
   "cell_type": "code",
   "execution_count": 8,
   "metadata": {
    "executionInfo": {
     "elapsed": 26,
     "status": "ok",
     "timestamp": 1628626828868,
     "user": {
      "displayName": "donato crisostomi",
      "photoUrl": "https://lh3.googleusercontent.com/a-/AOh14GgPF6gIkQREu4fSPb3tb-jWgteqPZKF_Nfz42N5Bw=s64",
      "userId": "08389014917835436028"
     },
     "user_tz": -120
    },
    "id": "oiGpRLZ1R88m"
   },
   "outputs": [],
   "source": [
    "USE_NOISY = True"
   ]
  },
  {
   "cell_type": "code",
   "execution_count": 9,
   "metadata": {
    "executionInfo": {
     "elapsed": 25,
     "status": "ok",
     "timestamp": 1628626828869,
     "user": {
      "displayName": "donato crisostomi",
      "photoUrl": "https://lh3.googleusercontent.com/a-/AOh14GgPF6gIkQREu4fSPb3tb-jWgteqPZKF_Nfz42N5Bw=s64",
      "userId": "08389014917835436028"
     },
     "user_tz": -120
    },
    "id": "8y-1zpLVrtp2"
   },
   "outputs": [],
   "source": [
    "use_dummy_data = False"
   ]
  },
  {
   "cell_type": "markdown",
   "metadata": {
    "id": "0pYgqESLJxP0"
   },
   "source": [
    "# Functions"
   ]
  },
  {
   "cell_type": "markdown",
   "metadata": {
    "id": "VdhaU5K0GJrm"
   },
   "source": [
    "## Utilities"
   ]
  },
  {
   "cell_type": "code",
   "execution_count": 17,
   "metadata": {
    "executionInfo": {
     "elapsed": 384,
     "status": "ok",
     "timestamp": 1628626841651,
     "user": {
      "displayName": "donato crisostomi",
      "photoUrl": "https://lh3.googleusercontent.com/a-/AOh14GgPF6gIkQREu4fSPb3tb-jWgteqPZKF_Nfz42N5Bw=s64",
      "userId": "08389014917835436028"
     },
     "user_tz": -120
    },
    "id": "CSQxjU10GMCx"
   },
   "outputs": [],
   "source": [
    "def print_number_of_parameters(network):\n",
    "    num_params = 0\n",
    "    for param in network.parameters():\n",
    "        p = np.array(param.shape, dtype=int).prod()\n",
    "        num_params += p\n",
    "    print(\"Total number of parameters: %d\" %(num_params))\n",
    "\n",
    "\n",
    "def coo2tensor(A):\n",
    "    \"\"\"\n",
    "        Converts a sparse matrix in COOrdinate format to torch tensor.\n",
    "    \"\"\"\n",
    "    assert scipy.sparse.isspmatrix_coo(A)\n",
    "    idxs = torch.LongTensor(np.vstack((A.row, A.col)))\n",
    "    vals = torch.FloatTensor(A.data)\n",
    "    return torch.sparse_coo_tensor(idxs, vals, size=A.shape, requires_grad=False)\n",
    "\n",
    "\n",
    "def normalize(L, half_interval=False):\n",
    "    \"\"\"\n",
    "        Returns the laplacian normalized by the largest eigenvalue\n",
    "    \"\"\"\n",
    "    assert scipy.sparse.isspmatrix(L)\n",
    "\n",
    "    # L is squared\n",
    "    M = L.shape[0]\n",
    "    assert M == L.shape[1]\n",
    "\n",
    "    # take the first eigenvalue of the Laplacian, i.e. the largest\n",
    "    largest_eigenvalue = linalg.eigsh(L, k=1, which=\"LM\", return_eigenvectors = False)[0]   \n",
    "\n",
    "    L_normalized = L.copy()\n",
    "\n",
    "    if half_interval:\n",
    "        L_normalized *= 1.0/largest_eigenvalue\n",
    "    else:\n",
    "        L_normalized *= 2.0/largest_eigenvalue\n",
    "        L_normalized.setdiag(L_normalized.diagonal(0) - np.ones(M), 0)\n",
    "\n",
    "    return L_normalized"
   ]
  },
  {
   "cell_type": "markdown",
   "metadata": {
    "id": "g7d_hRyM_jWA"
   },
   "source": [
    "# Models"
   ]
  },
  {
   "cell_type": "markdown",
   "metadata": {
    "id": "d2viSKzvEWLv"
   },
   "source": [
    "## MySCNN"
   ]
  },
  {
   "cell_type": "markdown",
   "metadata": {
    "id": "u_NatxO2Mr8Z"
   },
   "source": [
    "\\begin{align}\n",
    "    s_{sol} &= F_k^{-1}(\\varphi_{W_{sol}}) *_k s = \\sum_{i=0}^{N} \\left( (W_{sol})_i U_{sol} diag(\\Lambda_{sol}^i)U_{sol}^\\top \\right) s = \\sum_{i=0}^{N} \\left( (W_{sol})_i \\left( U diag(\\Lambda) U^\\top \\right)^i \\right) s \\\\\n",
    "    &= \\sum_{i=0}^{n} \\left((W_{sol})_i (L_k)_{sol}^i \\right)s \n",
    "    = \\sum_{i=0}^{n} \\left((W_{sol})_i (L_k)_{sol}^i \\right)s = \\sum_{i=0}^{n} \\left((W_{sol})_i (B_k^\\top B_k)^i \\right)s \n",
    "\\end{align}"
   ]
  },
  {
   "cell_type": "markdown",
   "metadata": {
    "id": "5cqMrPVnEZ96"
   },
   "source": [
    "### Framework"
   ]
  },
  {
   "cell_type": "markdown",
   "metadata": {
    "id": "PIVVOATK2VR0"
   },
   "source": [
    "The Chebyshev polynomial $T_k(x)$ of order $k$ may be computed by the stable recurrence relation \n",
    "$$\n",
    "    T_k(x) = 2x T_{k-1}(x) - T_{k-2}(x)\n",
    "$$\n",
    "with $T_0 = 1$ and $T_1 = x$.\n",
    "\n",
    "A filter can be parametrized as the truncated expansion\n",
    "$$\n",
    "    g_\\theta(\\Lambda) = \\sum_{k=0}^{K-1} \\theta_k T_k (\\tilde{\\Lambda})\n",
    "$$\n",
    "where the parameter $\\theta \\in \\mathbb{R}^k$ is a vector of Chebyshev coefficients and $T_k(\\tilde{\\Lambda}) \\in \\mathbb{R}^{n \\times n}$ is the Chebyshev polynomial of order $k$ evaluated at $\\tilde{\\Lambda} = 2 \\Lambda/ \\lambda_{max} - I_{n}$, a diagonal matrix of scaled eigenvalues that lie in $[-1, 1]$. The filtering operation can then be written as \n",
    "$$\n",
    "    y = g_\\theta(L)x = \\sum_{k=0}^{K-1} \\theta_k T_{k}(\\tilde{L})x\n",
    "$$\n",
    "where $T_{k}(\\tilde{L})$ is the Chebyshev polynomial of order $k$ evaluated at the scaled Laplacian $\\tilde{L} = 2L/\\lambda_{max} - I_{n}$. Denoting $\\bar{x}_{k} = T_{k}(\\tilde{L})x$, we can use the recurrence relation to compute \n",
    "$$\n",
    "    \\bar{x}_{k} = 2 \\tilde{L}\\bar{x}_{k-1} - \\bar{x}_{k-2}\n",
    "$$\n",
    "with \n",
    "*   $\\bar{x_0} = x$\n",
    "*   $\\bar{x}_1 = \\tilde{L}x$\n",
    "\n",
    "\n"
   ]
  },
  {
   "cell_type": "code",
   "execution_count": 18,
   "metadata": {
    "executionInfo": {
     "elapsed": 11,
     "status": "ok",
     "timestamp": 1628626842634,
     "user": {
      "displayName": "donato crisostomi",
      "photoUrl": "https://lh3.googleusercontent.com/a-/AOh14GgPF6gIkQREu4fSPb3tb-jWgteqPZKF_Nfz42N5Bw=s64",
      "userId": "08389014917835436028"
     },
     "user_tz": -120
    },
    "id": "O9E4VTg0EeLI"
   },
   "outputs": [],
   "source": [
    "def my_assemble(filter_size, L, x):\n",
    "    \"\"\"\n",
    "    parameters:\n",
    "        filter_size: Chebyshev filter size\n",
    "        L: Laplacian (num_simplices, num_simplices)\n",
    "        x: input (batch_size, C_in, num_simplices)\n",
    "    \"\"\"\n",
    "    \n",
    "    (C_in, num_simplices) = x.shape\n",
    "\n",
    "    assert L.shape[0] == num_simplices\n",
    "    assert L.shape[0] == L.shape[1] # L is a square matrix\n",
    "    assert filter_size > 0\n",
    "    x = x.to(torch.float32)\n",
    "    X = []\n",
    "    # for each channel\n",
    "    for c_in in range(0, C_in):\n",
    "        bar_X = []\n",
    "        bar_X_0 = x[c_in, :].unsqueeze(1) # \\bar{x}_0 = x\n",
    "        bar_X.append(bar_X_0)  \n",
    "        \n",
    "        # Chebyshev recursion\n",
    "        if filter_size > 1:\n",
    "            bar_X_1 = L @ bar_X[0] # \\bar{x}_1 = L x\n",
    "            bar_X.append(bar_X_1)\n",
    "\n",
    "            for k in range(2, filter_size): \n",
    "                bar_X.append(2*(L @ bar_X[k-1]) - bar_X[k-2]) # \\bar{x}_k = 2 L \\bar{x}_{k-1} - \\bar{x}_{k-2}\n",
    "\n",
    "        # (num_simplices, filter_size)\n",
    "        bar_X = torch.cat(bar_X, 1)\n",
    "        assert bar_X.shape == (num_simplices, filter_size)\n",
    "        X.append(bar_X.unsqueeze(0))\n",
    "    \n",
    "    # (channels_in, num_simplices, filter_size)\n",
    "    X = torch.cat(X, 0)\n",
    "    assert X.shape == (C_in, num_simplices, filter_size)\n",
    "\n",
    "    return X"
   ]
  },
  {
   "cell_type": "markdown",
   "metadata": {
    "id": "bXf2SKgtzNfh"
   },
   "source": [
    "#### Convolution"
   ]
  },
  {
   "cell_type": "code",
   "execution_count": 19,
   "metadata": {
    "executionInfo": {
     "elapsed": 9,
     "status": "ok",
     "timestamp": 1628626842636,
     "user": {
      "displayName": "donato crisostomi",
      "photoUrl": "https://lh3.googleusercontent.com/a-/AOh14GgPF6gIkQREu4fSPb3tb-jWgteqPZKF_Nfz42N5Bw=s64",
      "userId": "08389014917835436028"
     },
     "user_tz": -120
    },
    "id": "qrZu-GZ9E1Ma"
   },
   "outputs": [],
   "source": [
    "class MySimplicialConvolution(nn.Module):\n",
    "    def __init__(self, filter_size, C_in, C_out, enable_bias=True, variance=1.0):\n",
    "        \"\"\"\n",
    "        Convolution for simplices of a fixed dimension\n",
    "        \"\"\"\n",
    "        super().__init__()\n",
    "        \n",
    "        assert C_in > 0\n",
    "        assert C_out > 0 \n",
    "        assert filter_size > 0 \n",
    "        \n",
    "        self.C_in = C_in\n",
    "        self.C_out = C_out\n",
    "        self.filter_size = filter_size\n",
    "        self.enable_bias = enable_bias\n",
    "\n",
    "        self.theta = nn.parameter.Parameter(variance*torch.randn((self.C_out, self.C_in, self.filter_size)))\n",
    "        self.bias = nn.parameter.Parameter(torch.zeros((self.C_out, 1))) if self.enable_bias else 0.0\n",
    "\n",
    "    def forward(self, L, x):\n",
    "        (channels_in, num_simplices) = x.shape\n",
    "\n",
    "        assert channels_in == self.C_in\n",
    "\n",
    "        X = my_assemble(self.filter_size, L, x)\n",
    "\n",
    "        # X ~ channels_in, num_simplices, filter_size\n",
    "        # theta ~ channels_out, channels_in, filter_size \n",
    "        # y ~ channels_out, num_simplices\n",
    "\n",
    "        y = torch.einsum(\"imk, oik -> om\", (X, self.theta)) + self.bias\n",
    "\n",
    "        assert y.shape == (self.C_out, num_simplices)\n",
    "\n",
    "        return y\n"
   ]
  },
  {
   "cell_type": "markdown",
   "metadata": {
    "id": "4Sxp9rpREfuQ"
   },
   "source": [
    "### Network definition"
   ]
  },
  {
   "cell_type": "code",
   "execution_count": 20,
   "metadata": {
    "executionInfo": {
     "elapsed": 301,
     "status": "ok",
     "timestamp": 1628626843268,
     "user": {
      "displayName": "donato crisostomi",
      "photoUrl": "https://lh3.googleusercontent.com/a-/AOh14GgPF6gIkQREu4fSPb3tb-jWgteqPZKF_Nfz42N5Bw=s64",
      "userId": "08389014917835436028"
     },
     "user_tz": -120
    },
    "id": "OXdMzQB5lsA-"
   },
   "outputs": [],
   "source": [
    "class MySCNN(nn.Module):\n",
    "    def __init__(self, filter_size, colors):\n",
    "        super().__init__()\n",
    "\n",
    "        assert colors > 0\n",
    "        self.colors = colors\n",
    "\n",
    "        num_filters = 5\n",
    "        variance = 0.01 \n",
    "        self.num_layers = 5\n",
    "        self.num_dims = 3\n",
    "\n",
    "        self.activaction = nn.LeakyReLU()\n",
    "\n",
    "        self.C = nn.ModuleDict({ f'l{i}': nn.ModuleDict()  for i in range(1, self.num_layers+1) })\n",
    "        self.aggr = nn.ModuleDict({ f'l{i}': nn.ModuleDict()  for i in range(1, self.num_layers+1) })\n",
    "\n",
    "        # layer 1 \n",
    "        self.C['l1']['d0'] = MySimplicialConvolution(filter_size, C_in=self.colors, C_out=self.colors*num_filters, variance=variance)\n",
    "\n",
    "        # layer 2 \n",
    "        self.C['l2']['d0'] = MySimplicialConvolution(filter_size, C_in=self.colors*num_filters, C_out=self.colors*num_filters, variance=variance)\n",
    "        self.C['l2']['d1'] = MySimplicialConvolution(filter_size, C_in=self.colors*num_filters, C_out=self.colors*num_filters, variance=variance)\n",
    "        self.aggr['l2']['d1'] = nn.Sequential(\n",
    "            nn.Linear(2*self.colors*num_filters, self.colors*num_filters),\n",
    "            nn.ReLU()\n",
    "        )\n",
    "\n",
    "        # layer 3 \n",
    "        self.C['l3']['d0'] = MySimplicialConvolution(filter_size, C_in=self.colors*num_filters, C_out=self.colors*num_filters, variance=variance)\n",
    "        self.C['l3']['d1'] = MySimplicialConvolution(filter_size, C_in=self.colors*num_filters, C_out=self.colors*num_filters, variance=variance)\n",
    "        self.C['l3']['d2'] = MySimplicialConvolution(filter_size, C_in=self.colors*num_filters, C_out=self.colors*num_filters, variance=variance)\n",
    "        self.aggr['l3']['d1'] = nn.Sequential(\n",
    "            nn.Linear(2*self.colors*num_filters, self.colors*num_filters),\n",
    "            nn.ReLU()\n",
    "        )\n",
    "        self.aggr['l3']['d2'] = nn.Sequential(\n",
    "            nn.Linear(2*self.colors*num_filters, self.colors*num_filters),\n",
    "            nn.ReLU()\n",
    "        )\n",
    "        \n",
    "        # layer 4  \n",
    "        self.C['l4']['d0'] = MySimplicialConvolution(filter_size, C_in=self.colors*num_filters, C_out=self.colors*num_filters, variance=variance)\n",
    "        self.C['l4']['d1'] = MySimplicialConvolution(filter_size, C_in=self.colors*num_filters, C_out=self.colors*num_filters, variance=variance)\n",
    "        self.C['l4']['d2'] = MySimplicialConvolution(filter_size, C_in=self.colors*num_filters, C_out=self.colors*num_filters, variance=variance)\n",
    "        self.aggr['l4']['d1'] = nn.Sequential(\n",
    "            nn.Linear(2*self.colors*num_filters, self.colors*num_filters),\n",
    "            nn.ReLU()\n",
    "        )\n",
    "        self.aggr['l4']['d2'] = nn.Sequential(\n",
    "            nn.Linear(2*self.colors*num_filters, self.colors*num_filters),\n",
    "            nn.ReLU()\n",
    "        )\n",
    "\n",
    "        # layer 5  \n",
    "        self.C['l5']['d0'] = MySimplicialConvolution(filter_size, C_in=self.colors*num_filters, C_out=self.colors*num_filters, variance=variance)\n",
    "        self.C['l5']['d1'] = MySimplicialConvolution(filter_size, C_in=self.colors*num_filters, C_out=self.colors*num_filters, variance=variance)\n",
    "        self.C['l5']['d2'] = MySimplicialConvolution(filter_size, C_in=self.colors*num_filters, C_out=self.colors*num_filters, variance=variance)\n",
    "        self.aggr['l5']['d1'] = nn.Sequential(\n",
    "            nn.Linear(2*self.colors*num_filters, self.colors*num_filters),\n",
    "            nn.ReLU()\n",
    "        )\n",
    "\n",
    "        self.last_aggregator = nn.Linear(2*self.colors*num_filters, self.colors)\n",
    "\n",
    "\n",
    "    def forward(self, xs, components, Bs, Bts):\n",
    "        \"\"\"\n",
    "        parameters:\n",
    "            xs: inputs\n",
    "        \"\"\"\n",
    "\n",
    "        layers = range(self.num_layers+1)\n",
    "        dims = range(self.num_dims)\n",
    "        L = components['lap']\n",
    "\n",
    "        ###### layer 1 ######\n",
    "\n",
    "        # S0 = conv(S0)\n",
    "        # (num_filters x num_dims, num_nodes) \n",
    "        S0 = self.C['l1']['d0'](L[0], xs[0])\n",
    "        S0 = self.activaction(S0)\n",
    "\n",
    "        # S1 = lift(S0)        \n",
    "        # (num_edges, num_filters * c_in)\n",
    "        S0_lifted = self.lift(Bts[0], S0)\n",
    "        S1 = S0_lifted\n",
    "\n",
    "        ###### layer 2 ######\n",
    "        \n",
    "        # S0 = conv(S0)\n",
    "        # (num_filters * num_dims, num_nodes)\n",
    "        S0 = self.C['l2']['d0'](L[0], S0)\n",
    "        S0 = self.activaction(S0)\n",
    "\n",
    "        # (num_edges, num_filters * c_in)\n",
    "        S0_lifted = self.lift(Bts[0], S0)\n",
    "\n",
    "        # (num_filters * c_in, num_edges)\n",
    "        S1_conv = self.C['l2']['d1'](L[1], S1.transpose(1, 0))\n",
    "        S1_conv = self.activaction(S1_conv)\n",
    "\n",
    "        S1_concat = torch.cat((S0_lifted, S1_conv.transpose(1, 0)), dim=1)\n",
    "        \n",
    "        S1 = self.aggr['l2']['d1'](S1_concat)\n",
    "\n",
    "        # S2 = lift(S1)\n",
    "        S2 = Bts[1] @ S1\n",
    "\n",
    "        ###### layer 3 ######\n",
    "\n",
    "        # S0 = conv(S0)\n",
    "        S0 = self.C['l3']['d0'](L[0], S0)\n",
    "        S0 = self.activaction(S0)\n",
    "\n",
    "        # (num_edges, num_filters * c_in)\n",
    "        S0_lifted = self.lift(Bts[0], S0)\n",
    "\n",
    "        # (num_filters * c_in, num_edges)\n",
    "        S1_conv = self.C['l3']['d1'](L[1], S1.transpose(1, 0))\n",
    "        S1_conv = self.activaction(S1_conv)\n",
    "\n",
    "        # (2 * num_filters * c_in, num_edges)\n",
    "        S1_concat = torch.cat((S0_lifted, S1_conv.transpose(1, 0)), dim=1)\n",
    "        \n",
    "        S1 = self.aggr['l3']['d1'](S1_concat)\n",
    "        \n",
    "        # (num_edges, num_filters * c_in)\n",
    "        S1_lifted = Bts[1] @ S1\n",
    "\n",
    "        # (num_filters * c_in, num_edges)\n",
    "        S2_conv = self.C['l3']['d2'](L[2], S2.transpose(1, 0))\n",
    "        S2_conv = self.activaction(S2_conv)\n",
    "\n",
    "        S2_concat = torch.cat((S1_lifted, S2_conv.transpose(1, 0)), dim=1)\n",
    "        \n",
    "        S2 = self.aggr['l3']['d2'](S2_concat)\n",
    "\n",
    "        ###### layer 4 ######\n",
    "\n",
    "        # S0 = conv(S0)\n",
    "        S0 = self.C['l4']['d0'](L[0], S0)\n",
    "        S0 = self.activaction(S0)\n",
    "\n",
    "        # (num_edges, num_filters x c_in)\n",
    "        S0_lifted = self.lift(Bts[0], S0)\n",
    "\n",
    "        # (num_filters x c_in, num_edges)\n",
    "        S1_conv = self.C['l4']['d1'](L[1], S1.transpose(1, 0))\n",
    "        S1_conv = self.activaction(S1_conv)\n",
    "\n",
    "        S1_concat = torch.cat((S0_lifted, S1_conv.transpose(1, 0)), dim=1)\n",
    "        \n",
    "        S1 = self.aggr['l4']['d1'](S1_concat)\n",
    "\n",
    "        # (num_edges, num_filters x c_in)\n",
    "        S1_lifted = Bts[1] @ S1\n",
    "\n",
    "        # (num_filters x c_in, num_edges)\n",
    "        S2_conv = self.C['l4']['d2'](L[2], S2.transpose(1, 0))\n",
    "        S2_conv = self.activaction(S2_conv)\n",
    "\n",
    "        S2_concat = torch.cat((S1_lifted, S2_conv.transpose(1, 0)), dim=1)\n",
    "        \n",
    "        S2 = self.aggr['l4']['d2'](S2_concat)\n",
    "\n",
    "        ###### layer 5 ######\n",
    "\n",
    "        # S0 = conv(S0)\n",
    "        S0 = self.C['l4']['d0'](L[0], S0)\n",
    "        S0 = self.activaction(S0)\n",
    "\n",
    "        # (num_edges, num_filters x c_in)\n",
    "        S0_lifted = self.lift(Bts[0], S0)\n",
    "\n",
    "        # (num_filters x c_in, num_edges)\n",
    "        S1_conv = self.C['l4']['d1'](L[1], S1.transpose(1, 0))\n",
    "        S1_conv = self.activaction(S1_conv)\n",
    "\n",
    "        S1_concat = torch.cat((S0_lifted, S1_conv.transpose(1, 0)), dim=1)\n",
    "        \n",
    "        S1 = self.aggr['l5']['d1'](S1_concat)\n",
    "\n",
    "        # (num_edges, num_filters x c_in)\n",
    "        S1_lifted = Bts[1] @ S1\n",
    "\n",
    "        # (num_filters x c_in, num_edges)\n",
    "        S2_conv = self.C['l4']['d2'](L[2], S2.transpose(1, 0))\n",
    "\n",
    "        S2_concat = torch.cat((S1_lifted, S2_conv.transpose(1, 0)), dim=1)\n",
    "        \n",
    "        S2 = self.last_aggregator(S2_concat)\n",
    "\n",
    "        return S2\n",
    "\n",
    "    def lift(self, B, S):\n",
    "        return B @ S.transpose(1, 0)"
   ]
  },
  {
   "cell_type": "markdown",
   "metadata": {
    "id": "A9QgQD1V_ceZ"
   },
   "source": [
    "## Linear baseline"
   ]
  },
  {
   "cell_type": "code",
   "execution_count": 21,
   "metadata": {
    "executionInfo": {
     "elapsed": 24,
     "status": "ok",
     "timestamp": 1628626843270,
     "user": {
      "displayName": "donato crisostomi",
      "photoUrl": "https://lh3.googleusercontent.com/a-/AOh14GgPF6gIkQREu4fSPb3tb-jWgteqPZKF_Nfz42N5Bw=s64",
      "userId": "08389014917835436028"
     },
     "user_tz": -120
    },
    "id": "ZuH5X3QN_yif"
   },
   "outputs": [],
   "source": [
    "class LinearBaseline(nn.Module):\n",
    "    def __init__(self, num_nodes, num_triangles):\n",
    "        super().__init__()\n",
    "        self.num_nodes = num_nodes\n",
    "        self.num_triangles = num_triangles\n",
    "\n",
    "        self.node_to_triangles = nn.Linear(self.num_nodes, self.num_triangles, dtype=float)\n",
    "        self.linear = nn.Linear(self.num_triangles, self.num_triangles, dtype=float)\n",
    "\n",
    "\n",
    "    def forward(self, X):\n",
    "        \"\"\"\n",
    "        \"\"\"\n",
    "        triangle_features = self.node_to_triangles(X)\n",
    "        \n",
    "        triangle_features = nn.ReLU()(triangle_features)\n",
    "\n",
    "        output = self.linear(triangle_features)\n",
    "        \n",
    "        return output.transpose(1, 0)"
   ]
  },
  {
   "cell_type": "markdown",
   "metadata": {
    "id": "IjyaXZs72kBq"
   },
   "source": [
    "## Topology-aware baseline"
   ]
  },
  {
   "cell_type": "code",
   "execution_count": 110,
   "metadata": {
    "executionInfo": {
     "elapsed": 307,
     "status": "ok",
     "timestamp": 1628628143271,
     "user": {
      "displayName": "donato crisostomi",
      "photoUrl": "https://lh3.googleusercontent.com/a-/AOh14GgPF6gIkQREu4fSPb3tb-jWgteqPZKF_Nfz42N5Bw=s64",
      "userId": "08389014917835436028"
     },
     "user_tz": -120
    },
    "id": "yUOCX_I03HxX"
   },
   "outputs": [],
   "source": [
    "from scipy.sparse import csr_matrix\n",
    "\n",
    "\n",
    "def create_node_triangle_adj_matrix(nodes, triangles):\n",
    "    \"\"\"\n",
    "        nodes: tensor (num_nodes, 3)\n",
    "        triangles: tensor (num_triangles, 3)\n",
    "    \"\"\"\n",
    "    \n",
    "    i = np.arange(triangles.shape[0])\n",
    "    i = np.concatenate((i,i,i), 0)\n",
    "\n",
    "    j = triangles.reshape(-1)\n",
    "\n",
    "    adj = csr_matrix((np.ones_like(j), (i, j)), shape=(triangles.shape[0], nodes.shape[0])) #FxV sparse matrix\n",
    "\n",
    "    return torch.tensor(adj.todense(), dtype=torch.float64).to(device)"
   ]
  },
  {
   "cell_type": "code",
   "execution_count": 111,
   "metadata": {
    "executionInfo": {
     "elapsed": 790,
     "status": "ok",
     "timestamp": 1628628145903,
     "user": {
      "displayName": "donato crisostomi",
      "photoUrl": "https://lh3.googleusercontent.com/a-/AOh14GgPF6gIkQREu4fSPb3tb-jWgteqPZKF_Nfz42N5Bw=s64",
      "userId": "08389014917835436028"
     },
     "user_tz": -120
    },
    "id": "uhqqY5Lo3gG2"
   },
   "outputs": [],
   "source": [
    "stacked_triangles = np.stack(triangles)\n",
    "node_triangle_adj = create_node_triangle_adj_matrix(original_positions, stacked_triangles)"
   ]
  },
  {
   "cell_type": "code",
   "execution_count": 138,
   "metadata": {
    "executionInfo": {
     "elapsed": 238,
     "status": "ok",
     "timestamp": 1628628640779,
     "user": {
      "displayName": "donato crisostomi",
      "photoUrl": "https://lh3.googleusercontent.com/a-/AOh14GgPF6gIkQREu4fSPb3tb-jWgteqPZKF_Nfz42N5Bw=s64",
      "userId": "08389014917835436028"
     },
     "user_tz": -120
    },
    "id": "1y0t55uK2pq0"
   },
   "outputs": [],
   "source": [
    "class TopologyAwareBaseline(nn.Module):\n",
    "    def __init__(self, num_nodes, num_triangles, node_triangle_adj):\n",
    "        \"\"\"\n",
    "            node_triangle_adj: tensor (num_triangles, num_nodes)\n",
    "        \"\"\"\n",
    "        super().__init__()\n",
    "        self.num_nodes = num_nodes\n",
    "        self.num_triangles = num_triangles\n",
    "        self.node_triangle_adj = node_triangle_adj.transpose(1, 0)\n",
    "        # self.node_triangle_adj.requires_grad = False\n",
    "\n",
    "        self.linear = nn.Linear(num_triangles, num_triangles, dtype=torch.float64)\n",
    "    \n",
    "    def forward(self, X):\n",
    "        \"\"\"\n",
    "            X: tensor (3, num_nodes)\n",
    "        \"\"\"\n",
    "        triangle_features =  X @ self.node_triangle_adj\n",
    "        \n",
    "        # (num_triangles, num_nodes)\n",
    "        triangle_features = nn.ReLU()(triangle_features)\n",
    "\n",
    "        output = self.linear(triangle_features)\n",
    "        \n",
    "        return output.transpose(1, 0)"
   ]
  },
  {
   "cell_type": "markdown",
   "metadata": {
    "id": "xwWrv6f5o50z"
   },
   "source": [
    "# Data loading"
   ]
  },
  {
   "cell_type": "code",
   "execution_count": 24,
   "metadata": {
    "executionInfo": {
     "elapsed": 317,
     "status": "ok",
     "timestamp": 1628626856232,
     "user": {
      "displayName": "donato crisostomi",
      "photoUrl": "https://lh3.googleusercontent.com/a-/AOh14GgPF6gIkQREu4fSPb3tb-jWgteqPZKF_Nfz42N5Bw=s64",
      "userId": "08389014917835436028"
     },
     "user_tz": -120
    },
    "id": "uPCoj7uL8yzI"
   },
   "outputs": [],
   "source": [
    "def load_dict(path):\n",
    "    keys_path = path + '_keys'\n",
    "    values_path = path + '_values.npy'\n",
    "\n",
    "    dictionary = {}\n",
    "\n",
    "    with open(keys_path, 'rb') as f:\n",
    "        keys = dill.load(f)\n",
    "\n",
    "    values = np.load(values_path)\n",
    "\n",
    "    for k,v in zip(keys, values):\n",
    "        dictionary[k] = v\n",
    "\n",
    "    return dictionary"
   ]
  },
  {
   "cell_type": "code",
   "execution_count": 25,
   "metadata": {
    "executionInfo": {
     "elapsed": 23,
     "status": "ok",
     "timestamp": 1628626856656,
     "user": {
      "displayName": "donato crisostomi",
      "photoUrl": "https://lh3.googleusercontent.com/a-/AOh14GgPF6gIkQREu4fSPb3tb-jWgteqPZKF_Nfz42N5Bw=s64",
      "userId": "08389014917835436028"
     },
     "user_tz": -120
    },
    "id": "zY0lZ7JlrysV"
   },
   "outputs": [],
   "source": [
    "prefix = 'dummy_' if use_dummy_data else ''\n",
    "\n",
    "laplacian_path = f'{data_folder}/{prefix}laplacians.npy'\n",
    "boundaries_path = f'{data_folder}/{prefix}boundaries.npy'\n",
    "positions_path = f'{data_folder}/{prefix}positions'\n",
    "normals_path = f'{data_folder}/{prefix}normals'\n",
    "triangles_path = f'{data_folder}/{prefix}triangles.npy'\n",
    "original_positions_path = f'{data_folder}/{prefix}original_positions'\n",
    "noisy_positions_path = f'{data_folder}/{prefix}noisy_positions'"
   ]
  },
  {
   "cell_type": "code",
   "execution_count": 26,
   "metadata": {
    "colab": {
     "base_uri": "https://localhost:8080/"
    },
    "executionInfo": {
     "elapsed": 1591,
     "status": "ok",
     "timestamp": 1628626858234,
     "user": {
      "displayName": "donato crisostomi",
      "photoUrl": "https://lh3.googleusercontent.com/a-/AOh14GgPF6gIkQREu4fSPb3tb-jWgteqPZKF_Nfz42N5Bw=s64",
      "userId": "08389014917835436028"
     },
     "user_tz": -120
    },
    "id": "IwJlJBvLo4x8",
    "outputId": "61726c51-b355-4cf5-a150-3149729dbe65"
   },
   "outputs": [
    {
     "name": "stdout",
     "output_type": "stream",
     "text": [
      "3\n"
     ]
    }
   ],
   "source": [
    "laplacians = np.load(laplacian_path, allow_pickle=True)\n",
    "print(len(laplacians))"
   ]
  },
  {
   "cell_type": "code",
   "execution_count": 27,
   "metadata": {
    "colab": {
     "base_uri": "https://localhost:8080/"
    },
    "executionInfo": {
     "elapsed": 646,
     "status": "ok",
     "timestamp": 1628626858876,
     "user": {
      "displayName": "donato crisostomi",
      "photoUrl": "https://lh3.googleusercontent.com/a-/AOh14GgPF6gIkQREu4fSPb3tb-jWgteqPZKF_Nfz42N5Bw=s64",
      "userId": "08389014917835436028"
     },
     "user_tz": -120
    },
    "id": "r4R2Y2mdjSi2",
    "outputId": "7f3f615c-dee2-46c0-bad5-a764ad2f8c6e"
   },
   "outputs": [
    {
     "name": "stdout",
     "output_type": "stream",
     "text": [
      "2\n"
     ]
    }
   ],
   "source": [
    "boundaries = np.load(boundaries_path, allow_pickle=True)\n",
    "print(len(boundaries))"
   ]
  },
  {
   "cell_type": "code",
   "execution_count": 28,
   "metadata": {
    "colab": {
     "base_uri": "https://localhost:8080/"
    },
    "executionInfo": {
     "elapsed": 1020,
     "status": "ok",
     "timestamp": 1628626859891,
     "user": {
      "displayName": "donato crisostomi",
      "photoUrl": "https://lh3.googleusercontent.com/a-/AOh14GgPF6gIkQREu4fSPb3tb-jWgteqPZKF_Nfz42N5Bw=s64",
      "userId": "08389014917835436028"
     },
     "user_tz": -120
    },
    "id": "GQ_g9HFuiRaW",
    "outputId": "823102c3-bbda-4c92-fc43-d8f8675ab3d3"
   },
   "outputs": [
    {
     "name": "stdout",
     "output_type": "stream",
     "text": [
      "10688\n"
     ]
    }
   ],
   "source": [
    "triangles = np.load(triangles_path, allow_pickle=True)\n",
    "print(len(triangles))"
   ]
  },
  {
   "cell_type": "code",
   "execution_count": 29,
   "metadata": {
    "executionInfo": {
     "elapsed": 650,
     "status": "ok",
     "timestamp": 1628626860537,
     "user": {
      "displayName": "donato crisostomi",
      "photoUrl": "https://lh3.googleusercontent.com/a-/AOh14GgPF6gIkQREu4fSPb3tb-jWgteqPZKF_Nfz42N5Bw=s64",
      "userId": "08389014917835436028"
     },
     "user_tz": -120
    },
    "id": "_9FlXrSwkxKZ"
   },
   "outputs": [],
   "source": [
    "original_positions = np.load(original_positions_path, allow_pickle=True)"
   ]
  },
  {
   "cell_type": "code",
   "execution_count": 30,
   "metadata": {
    "executionInfo": {
     "elapsed": 3399,
     "status": "ok",
     "timestamp": 1628626863931,
     "user": {
      "displayName": "donato crisostomi",
      "photoUrl": "https://lh3.googleusercontent.com/a-/AOh14GgPF6gIkQREu4fSPb3tb-jWgteqPZKF_Nfz42N5Bw=s64",
      "userId": "08389014917835436028"
     },
     "user_tz": -120
    },
    "id": "0SXbi3Jn9zWa"
   },
   "outputs": [],
   "source": [
    "signals = {0: {}, 1: {}, 2: {}}\n",
    "\n",
    "signals[0] = load_dict(positions_path)\n",
    "\n",
    "signals[2] = load_dict(normals_path)\n",
    "\n",
    "noisy_node_signals = load_dict(noisy_positions_path)"
   ]
  },
  {
   "cell_type": "markdown",
   "metadata": {
    "id": "FvkXw7k6Zg_U"
   },
   "source": [
    "# Preparation"
   ]
  },
  {
   "cell_type": "markdown",
   "metadata": {
    "id": "1fdOUfoqZt0E"
   },
   "source": [
    "## Boundaries and laplacians loading"
   ]
  },
  {
   "cell_type": "code",
   "execution_count": 31,
   "metadata": {
    "executionInfo": {
     "elapsed": 11954,
     "status": "ok",
     "timestamp": 1628626875847,
     "user": {
      "displayName": "donato crisostomi",
      "photoUrl": "https://lh3.googleusercontent.com/a-/AOh14GgPF6gIkQREu4fSPb3tb-jWgteqPZKF_Nfz42N5Bw=s64",
      "userId": "08389014917835436028"
     },
     "user_tz": -120
    },
    "id": "yxL7SrLlWPcG"
   },
   "outputs": [],
   "source": [
    "max_simplex_dim = 2\n",
    "device = 'cuda' if torch.cuda.is_available() else 'cpu'\n",
    "\n",
    "components = {}\n",
    "components['lap'] = [coo2tensor(normalize(laplacians[i], half_interval=True)).to(device) for i in range(max_simplex_dim+1)] \n",
    "\n",
    "Bt_s = [boundaries[i].transpose() for i in range(max_simplex_dim)]\n",
    "Bs = [boundaries[i] for i in range(max_simplex_dim)]"
   ]
  },
  {
   "cell_type": "markdown",
   "metadata": {
    "id": "jUahOfAkRh1K"
   },
   "source": [
    "To have $\\mathbf{B}$ start at $1$ as in the equations"
   ]
  },
  {
   "cell_type": "code",
   "execution_count": 32,
   "metadata": {
    "executionInfo": {
     "elapsed": 44,
     "status": "ok",
     "timestamp": 1628626875848,
     "user": {
      "displayName": "donato crisostomi",
      "photoUrl": "https://lh3.googleusercontent.com/a-/AOh14GgPF6gIkQREu4fSPb3tb-jWgteqPZKF_Nfz42N5Bw=s64",
      "userId": "08389014917835436028"
     },
     "user_tz": -120
    },
    "id": "JlZUneuFRGjT"
   },
   "outputs": [],
   "source": [
    "Bt_s = [None] + Bt_s\n",
    "Bs = [None] + Bs"
   ]
  },
  {
   "cell_type": "code",
   "execution_count": 33,
   "metadata": {
    "colab": {
     "base_uri": "https://localhost:8080/"
    },
    "executionInfo": {
     "elapsed": 42,
     "status": "ok",
     "timestamp": 1628626875849,
     "user": {
      "displayName": "donato crisostomi",
      "photoUrl": "https://lh3.googleusercontent.com/a-/AOh14GgPF6gIkQREu4fSPb3tb-jWgteqPZKF_Nfz42N5Bw=s64",
      "userId": "08389014917835436028"
     },
     "user_tz": -120
    },
    "id": "l_QL5Esk863l",
    "outputId": "c3d2b455-42dd-4096-9b31-a73a100cf726"
   },
   "outputs": [
    {
     "name": "stdout",
     "output_type": "stream",
     "text": [
      "[5647, 16332, 10688]\n"
     ]
    }
   ],
   "source": [
    "num_simplices = [ L.shape[0] for L in components['lap'] ]\n",
    "print(num_simplices)"
   ]
  },
  {
   "cell_type": "markdown",
   "metadata": {
    "id": "ohwc5EvpPvzU"
   },
   "source": [
    "## Orthogonal decomposition\n",
    "\\begin{align}\n",
    "    \\mathbf{L}_0 =& \\mathbf{B}_1 \\mathbf{B}_1^\\top \\\\\n",
    "    \\mathbf{L}_k =& \\mathbf{B}_k^\\top \\mathbf{B}_k + \\mathbf{B}_{k+1}\\mathbf{B}^\\top_{k+1} \\\\ \n",
    "    \\mathbf{L}_K =& \\mathbf{B}_K^\\top \\mathbf{B}_K\n",
    "\\end{align}\n",
    "\n",
    "In the following examples we will consider *max_simplex_dim* to be 2, i.e. we are considering only simplices up to triangles;"
   ]
  },
  {
   "cell_type": "markdown",
   "metadata": {
    "id": "DktIDt9JQBvY"
   },
   "source": [
    "### Harmonic component\n",
    "$$\n",
    "    \\mathbf{U_{har}} = [ker(L_0), \\quad ker(L_1), \\quad ker(L_2)] \n",
    "$$\n"
   ]
  },
  {
   "cell_type": "code",
   "execution_count": 34,
   "metadata": {
    "executionInfo": {
     "elapsed": 40,
     "status": "ok",
     "timestamp": 1628626875850,
     "user": {
      "displayName": "donato crisostomi",
      "photoUrl": "https://lh3.googleusercontent.com/a-/AOh14GgPF6gIkQREu4fSPb3tb-jWgteqPZKF_Nfz42N5Bw=s64",
      "userId": "08389014917835436028"
     },
     "user_tz": -120
    },
    "id": "hOxlrjjHNYef"
   },
   "outputs": [],
   "source": [
    "components['har'] = [None for L in components['lap']]"
   ]
  },
  {
   "cell_type": "markdown",
   "metadata": {
    "id": "UxbCZZ3VTWuO"
   },
   "source": [
    "### Irrotational component\n",
    "$$\n",
    "    \\mathbf{L_{irr}} = [ B_1 B_1^\\top, \\quad B_2 B_2^\\top, \\quad None]\n",
    "$$"
   ]
  },
  {
   "cell_type": "code",
   "execution_count": 35,
   "metadata": {
    "executionInfo": {
     "elapsed": 56118,
     "status": "ok",
     "timestamp": 1628626931930,
     "user": {
      "displayName": "donato crisostomi",
      "photoUrl": "https://lh3.googleusercontent.com/a-/AOh14GgPF6gIkQREu4fSPb3tb-jWgteqPZKF_Nfz42N5Bw=s64",
      "userId": "08389014917835436028"
     },
     "user_tz": -120
    },
    "id": "SoO_OCRLQVnq"
   },
   "outputs": [],
   "source": [
    "components['irr'] = [None for i in range(max_simplex_dim)]\n",
    "\n",
    "for k in range(max_simplex_dim):\n",
    "\n",
    "    Btk_upper = Bt_s[k+1].todense()\n",
    "    Bk_upper = Bs[k+1].todense()\n",
    "    \n",
    "    BBt = Bk_upper @ Btk_upper\n",
    "\n",
    "    components['irr'][k] = coo_matrix(BBt)"
   ]
  },
  {
   "cell_type": "markdown",
   "metadata": {
    "id": "Z_xNsM67QQr3"
   },
   "source": [
    "### Solenoidal component\n",
    "$$ \n",
    "    \\mathbf{U_{sol}} = [ \\text{None}, \\quad B_1^\\top B_1, \\quad B_2^\\top B_2 ]\n",
    "$$"
   ]
  },
  {
   "cell_type": "code",
   "execution_count": 36,
   "metadata": {
    "executionInfo": {
     "elapsed": 53052,
     "status": "ok",
     "timestamp": 1628626984960,
     "user": {
      "displayName": "donato crisostomi",
      "photoUrl": "https://lh3.googleusercontent.com/a-/AOh14GgPF6gIkQREu4fSPb3tb-jWgteqPZKF_Nfz42N5Bw=s64",
      "userId": "08389014917835436028"
     },
     "user_tz": -120
    },
    "id": "GvOsVjm8N4Ur"
   },
   "outputs": [],
   "source": [
    "components['sol'] = [None for i in range(max_simplex_dim+1)]\n",
    "\n",
    "for k in range(1, max_simplex_dim+1):\n",
    "\n",
    "    Btk = Bt_s[k].todense()\n",
    "    Bk = Bs[k].todense()\n",
    "\n",
    "    BtB = Btk @ Bk\n",
    "    \n",
    "    components['sol'][k] = coo_matrix(BtB)"
   ]
  },
  {
   "cell_type": "markdown",
   "metadata": {
    "id": "Fxl51Wknf2q4"
   },
   "source": [
    "### Normalize the Laplacians\n",
    "(!!) is it correct to do this?"
   ]
  },
  {
   "cell_type": "code",
   "execution_count": 37,
   "metadata": {
    "executionInfo": {
     "elapsed": 740,
     "status": "ok",
     "timestamp": 1628626985655,
     "user": {
      "displayName": "donato crisostomi",
      "photoUrl": "https://lh3.googleusercontent.com/a-/AOh14GgPF6gIkQREu4fSPb3tb-jWgteqPZKF_Nfz42N5Bw=s64",
      "userId": "08389014917835436028"
     },
     "user_tz": -120
    },
    "id": "44I83ooCf7TK"
   },
   "outputs": [],
   "source": [
    "components['sol'] = [coo2tensor(normalize(components['sol'][i], half_interval=True)).cuda() if components['sol'][i] != None else None for i in range(0, max_simplex_dim+1) ] \n",
    "components['irr'] = [coo2tensor(normalize(components['irr'][i], half_interval=True)).cuda() if components['irr'][i] != None else None for i in range(0, max_simplex_dim) ] "
   ]
  },
  {
   "cell_type": "markdown",
   "metadata": {
    "id": "afAZMQ7OsS2S"
   },
   "source": [
    "### Check"
   ]
  },
  {
   "cell_type": "markdown",
   "metadata": {
    "id": "Q2aUFBS-tvuB"
   },
   "source": [
    "The first irrotational component must be equal to the node Laplacian "
   ]
  },
  {
   "cell_type": "code",
   "execution_count": 38,
   "metadata": {
    "executionInfo": {
     "elapsed": 475,
     "status": "ok",
     "timestamp": 1628626986126,
     "user": {
      "displayName": "donato crisostomi",
      "photoUrl": "https://lh3.googleusercontent.com/a-/AOh14GgPF6gIkQREu4fSPb3tb-jWgteqPZKF_Nfz42N5Bw=s64",
      "userId": "08389014917835436028"
     },
     "user_tz": -120
    },
    "id": "DMjR7KfIsVXA"
   },
   "outputs": [],
   "source": [
    "tol = 1e-5\n",
    "num_nodes = len(components['irr'][0])\n",
    "\n",
    "comparison = np.abs(components['irr'][0].cpu().to_dense() - components['lap'][0].cpu().to_dense()) <= tol \n",
    "assert comparison.all()"
   ]
  },
  {
   "cell_type": "markdown",
   "metadata": {
    "id": "rei2H19NLQTF"
   },
   "source": [
    "The sum of the first solenoidal component and the first irrotational component must be equal to the edge Laplacian. \n",
    "\n",
    "This does not happen as both solenoidal and irrotational components are normalized separately\n",
    "\n"
   ]
  },
  {
   "cell_type": "code",
   "execution_count": 39,
   "metadata": {
    "colab": {
     "base_uri": "https://localhost:8080/"
    },
    "executionInfo": {
     "elapsed": 32,
     "status": "ok",
     "timestamp": 1628626986127,
     "user": {
      "displayName": "donato crisostomi",
      "photoUrl": "https://lh3.googleusercontent.com/a-/AOh14GgPF6gIkQREu4fSPb3tb-jWgteqPZKF_Nfz42N5Bw=s64",
      "userId": "08389014917835436028"
     },
     "user_tz": -120
    },
    "id": "iTohB7P8LUlq",
    "outputId": "185d5632-2f7c-40eb-eb0f-dd0bc9370ca8"
   },
   "outputs": [
    {
     "name": "stdout",
     "output_type": "stream",
     "text": [
      "tensor([[0.4048, 0.0000, 0.0000,  ..., 0.0000, 0.0000, 0.0000],\n",
      "        [0.0000, 0.4048, 0.0000,  ..., 0.0000, 0.0000, 0.0000],\n",
      "        [0.0000, 0.0000, 0.4048,  ..., 0.0000, 0.0000, 0.0000],\n",
      "        ...,\n",
      "        [0.0000, 0.0000, 0.0000,  ..., 0.4048, 0.0000, 0.0000],\n",
      "        [0.0000, 0.0000, 0.0000,  ..., 0.0000, 0.4048, 0.0000],\n",
      "        [0.0000, 0.0000, 0.0000,  ..., 0.0000, 0.0000, 0.4048]],\n",
      "       device='cuda:0')\n",
      "torch.Size([16332, 16332])\n",
      "tensor([[ 0.5368, -0.0660,  0.0660,  ...,  0.0000,  0.0000,  0.0000],\n",
      "        [-0.0660,  0.5368, -0.0660,  ...,  0.0000,  0.0000,  0.0000],\n",
      "        [ 0.0660, -0.0660,  0.5368,  ...,  0.0000,  0.0000,  0.0000],\n",
      "        ...,\n",
      "        [ 0.0000,  0.0000,  0.0000,  ...,  0.5368,  0.0000,  0.0000],\n",
      "        [ 0.0000,  0.0000,  0.0000,  ...,  0.0000,  0.5368,  0.0000],\n",
      "        [ 0.0000,  0.0000,  0.0000,  ...,  0.0000,  0.0000,  0.5368]],\n",
      "       device='cuda:0')\n",
      "torch.Size([16332, 16332])\n"
     ]
    }
   ],
   "source": [
    "print(components['lap'][1].to_dense())\n",
    "print(components['lap'][1].shape)\n",
    "res = components['irr'][1] + components['sol'][1]\n",
    "\n",
    "print(res.to_dense())\n",
    "print(res.shape)"
   ]
  },
  {
   "cell_type": "markdown",
   "metadata": {
    "id": "xbQkNkjJQ-6r"
   },
   "source": [
    "# Signal preparation"
   ]
  },
  {
   "cell_type": "markdown",
   "metadata": {
    "id": "YBLT1bSOA_Yt"
   },
   "source": [
    "## Input"
   ]
  },
  {
   "cell_type": "code",
   "execution_count": 40,
   "metadata": {
    "executionInfo": {
     "elapsed": 25,
     "status": "ok",
     "timestamp": 1628626986129,
     "user": {
      "displayName": "donato crisostomi",
      "photoUrl": "https://lh3.googleusercontent.com/a-/AOh14GgPF6gIkQREu4fSPb3tb-jWgteqPZKF_Nfz42N5Bw=s64",
      "userId": "08389014917835436028"
     },
     "user_tz": -120
    },
    "id": "GBCiJgjQBCkq"
   },
   "outputs": [],
   "source": [
    "inputs = {0 : [], 1: [], 2: []}"
   ]
  },
  {
   "cell_type": "code",
   "execution_count": 41,
   "metadata": {
    "colab": {
     "base_uri": "https://localhost:8080/"
    },
    "executionInfo": {
     "elapsed": 25,
     "status": "ok",
     "timestamp": 1628626986130,
     "user": {
      "displayName": "donato crisostomi",
      "photoUrl": "https://lh3.googleusercontent.com/a-/AOh14GgPF6gIkQREu4fSPb3tb-jWgteqPZKF_Nfz42N5Bw=s64",
      "userId": "08389014917835436028"
     },
     "user_tz": -120
    },
    "id": "o4ui-VzNRCcf",
    "outputId": "6350b47c-7ca2-4bca-c3f5-976a92445350"
   },
   "outputs": [
    {
     "name": "stdout",
     "output_type": "stream",
     "text": [
      "torch.Size([5647, 3])\n"
     ]
    }
   ],
   "source": [
    "node_signal = noisy_node_signals if USE_NOISY else signals[0]\n",
    "node_signal = [torch.tensor(signal) for signal in list(signals[0].values())]\n",
    "node_signal = torch.stack(node_signal)\n",
    "inputs[0] = node_signal\n",
    "\n",
    "print(node_signal.shape)"
   ]
  },
  {
   "cell_type": "markdown",
   "metadata": {
    "id": "OVTNVLZXAdAB"
   },
   "source": [
    "### Lift node signal to edges"
   ]
  },
  {
   "cell_type": "code",
   "execution_count": 42,
   "metadata": {
    "colab": {
     "base_uri": "https://localhost:8080/"
    },
    "executionInfo": {
     "elapsed": 25,
     "status": "ok",
     "timestamp": 1628626986133,
     "user": {
      "displayName": "donato crisostomi",
      "photoUrl": "https://lh3.googleusercontent.com/a-/AOh14GgPF6gIkQREu4fSPb3tb-jWgteqPZKF_Nfz42N5Bw=s64",
      "userId": "08389014917835436028"
     },
     "user_tz": -120
    },
    "id": "bf9hFsyFROPV",
    "outputId": "c3c5c09c-8d37-45e1-e9a6-0d0463663333"
   },
   "outputs": [
    {
     "name": "stdout",
     "output_type": "stream",
     "text": [
      "(16332, 3)\n"
     ]
    }
   ],
   "source": [
    "edge_signal = Bs[1].T @ node_signal\n",
    "print(edge_signal.shape)"
   ]
  },
  {
   "cell_type": "code",
   "execution_count": 43,
   "metadata": {
    "colab": {
     "base_uri": "https://localhost:8080/"
    },
    "executionInfo": {
     "elapsed": 22,
     "status": "ok",
     "timestamp": 1628626986136,
     "user": {
      "displayName": "donato crisostomi",
      "photoUrl": "https://lh3.googleusercontent.com/a-/AOh14GgPF6gIkQREu4fSPb3tb-jWgteqPZKF_Nfz42N5Bw=s64",
      "userId": "08389014917835436028"
     },
     "user_tz": -120
    },
    "id": "00UArz0ZsDYu",
    "outputId": "f9f2af91-6b6b-44b1-f66c-2d495867156e"
   },
   "outputs": [
    {
     "name": "stdout",
     "output_type": "stream",
     "text": [
      "[[ 0.024854   0.000808   0.033069 ]\n",
      " [ 0.018577  -0.0207051 -0.014109 ]\n",
      " [-0.006277  -0.0215131 -0.047178 ]\n",
      " ...\n",
      " [ 0.005298  -0.023554  -0.019772 ]\n",
      " [ 0.005297   0.023553   0.019772 ]\n",
      " [ 0.005297   0.023553  -0.019772 ]]\n"
     ]
    }
   ],
   "source": [
    "print(edge_signal)\n",
    "inputs[1] = torch.tensor(edge_signal)"
   ]
  },
  {
   "cell_type": "markdown",
   "metadata": {
    "id": "ISSaJffEAfxp"
   },
   "source": [
    "## Create triangle signal"
   ]
  },
  {
   "cell_type": "code",
   "execution_count": 44,
   "metadata": {
    "executionInfo": {
     "elapsed": 249,
     "status": "ok",
     "timestamp": 1628626986366,
     "user": {
      "displayName": "donato crisostomi",
      "photoUrl": "https://lh3.googleusercontent.com/a-/AOh14GgPF6gIkQREu4fSPb3tb-jWgteqPZKF_Nfz42N5Bw=s64",
      "userId": "08389014917835436028"
     },
     "user_tz": -120
    },
    "id": "oLY7zlgp_qtd"
   },
   "outputs": [],
   "source": [
    "num_triangles = Bs[2].shape[1]\n",
    "triangle_signal = torch.rand((num_triangles, 3))\n",
    "inputs[2] = triangle_signal"
   ]
  },
  {
   "cell_type": "code",
   "execution_count": 45,
   "metadata": {
    "executionInfo": {
     "elapsed": 19,
     "status": "ok",
     "timestamp": 1628626986368,
     "user": {
      "displayName": "donato crisostomi",
      "photoUrl": "https://lh3.googleusercontent.com/a-/AOh14GgPF6gIkQREu4fSPb3tb-jWgteqPZKF_Nfz42N5Bw=s64",
      "userId": "08389014917835436028"
     },
     "user_tz": -120
    },
    "id": "l2xCzUGpAmWb"
   },
   "outputs": [],
   "source": [
    "targets = [torch.tensor(signal) for signal in list(signals[2].values())]\n",
    "targets = torch.stack(targets)\n",
    "\n",
    "targets = targets.to(device).float()"
   ]
  },
  {
   "cell_type": "code",
   "execution_count": 46,
   "metadata": {
    "executionInfo": {
     "elapsed": 18,
     "status": "ok",
     "timestamp": 1628626986369,
     "user": {
      "displayName": "donato crisostomi",
      "photoUrl": "https://lh3.googleusercontent.com/a-/AOh14GgPF6gIkQREu4fSPb3tb-jWgteqPZKF_Nfz42N5Bw=s64",
      "userId": "08389014917835436028"
     },
     "user_tz": -120
    },
    "id": "kocgyHUEW0yJ"
   },
   "outputs": [],
   "source": [
    "inputs = list(inputs.values())\n",
    "inputs = [input.transpose(1, 0) for input in inputs]"
   ]
  },
  {
   "cell_type": "markdown",
   "metadata": {
    "id": "6-tOKq3fHJl2"
   },
   "source": [
    "# Training"
   ]
  },
  {
   "cell_type": "code",
   "execution_count": 55,
   "metadata": {
    "executionInfo": {
     "elapsed": 311,
     "status": "ok",
     "timestamp": 1628627492584,
     "user": {
      "displayName": "donato crisostomi",
      "photoUrl": "https://lh3.googleusercontent.com/a-/AOh14GgPF6gIkQREu4fSPb3tb-jWgteqPZKF_Nfz42N5Bw=s64",
      "userId": "08389014917835436028"
     },
     "user_tz": -120
    },
    "id": "3lqihnEqdJr_"
   },
   "outputs": [],
   "source": [
    "Bs = [ coo2tensor(B).to(device) for B in Bs if B is not None]\n",
    "Bt_s = [ coo2tensor(Bt).to(device) for Bt in Bt_s if Bt is not None]"
   ]
  },
  {
   "cell_type": "markdown",
   "metadata": {
    "id": "auoLMvfCqC2c"
   },
   "source": [
    "## Functions"
   ]
  },
  {
   "cell_type": "markdown",
   "metadata": {
    "id": "Rn4niJTeAF1j"
   },
   "source": [
    "### Train"
   ]
  },
  {
   "cell_type": "code",
   "execution_count": 113,
   "metadata": {
    "executionInfo": {
     "elapsed": 2,
     "status": "ok",
     "timestamp": 1628628149716,
     "user": {
      "displayName": "donato crisostomi",
      "photoUrl": "https://lh3.googleusercontent.com/a-/AOh14GgPF6gIkQREu4fSPb3tb-jWgteqPZKF_Nfz42N5Bw=s64",
      "userId": "08389014917835436028"
     },
     "user_tz": -120
    },
    "id": "xLmfC-Ado7LP"
   },
   "outputs": [],
   "source": [
    "def train(model, num_epochs, components, inputs, targets, Bs, Bts, optimizer, device, verbose=False):\n",
    "\n",
    "    for epoch in tqdm(range(0, num_epochs)):\n",
    "\n",
    "        # (max_simplex_dim+1, 1, num_simplices_dim_k)\n",
    "        xs = [input.clone().to(device) for input in inputs]\n",
    "        \n",
    "        max_simplex_dim = len(xs)-1\n",
    "\n",
    "        optimizer.zero_grad()\n",
    "           \n",
    "        # ys = model(xs, components, Bs, Bt_s)\n",
    "        ys = model(xs[0])\n",
    "\n",
    "        targets = targets.to(torch.float64)\n",
    "\n",
    "        loss = torch.tensor(0., device=device, dtype=torch.float64)\n",
    "\n",
    "        for i in range(3):\n",
    "            loss += criterion(ys[:, i], targets[:, i])\n",
    "\n",
    "        if verbose:\n",
    "            print(f'Epoch: {epoch}, loss: {round(loss.item(), 4)}')\n",
    "\n",
    "        loss.backward()\n",
    "        optimizer.step()"
   ]
  },
  {
   "cell_type": "markdown",
   "metadata": {
    "id": "JdsHm9UGvcpC"
   },
   "source": [
    "## Params"
   ]
  },
  {
   "cell_type": "code",
   "execution_count": 92,
   "metadata": {
    "executionInfo": {
     "elapsed": 5,
     "status": "ok",
     "timestamp": 1628627930614,
     "user": {
      "displayName": "donato crisostomi",
      "photoUrl": "https://lh3.googleusercontent.com/a-/AOh14GgPF6gIkQREu4fSPb3tb-jWgteqPZKF_Nfz42N5Bw=s64",
      "userId": "08389014917835436028"
     },
     "user_tz": -120
    },
    "id": "17oiFpttZy01"
   },
   "outputs": [],
   "source": [
    "learning_rate = 1e-3\n",
    "criterion = nn.MSELoss(reduction=\"mean\")\n",
    "filter_size = 30"
   ]
  },
  {
   "cell_type": "markdown",
   "metadata": {
    "id": "Zrc3DClatMaE"
   },
   "source": [
    "## Loop"
   ]
  },
  {
   "cell_type": "code",
   "execution_count": 93,
   "metadata": {
    "executionInfo": {
     "elapsed": 2,
     "status": "ok",
     "timestamp": 1628627931577,
     "user": {
      "displayName": "donato crisostomi",
      "photoUrl": "https://lh3.googleusercontent.com/a-/AOh14GgPF6gIkQREu4fSPb3tb-jWgteqPZKF_Nfz42N5Bw=s64",
      "userId": "08389014917835436028"
     },
     "user_tz": -120
    },
    "id": "W_oT-pb3vWmK"
   },
   "outputs": [],
   "source": [
    "model = MySCNN(filter_size, colors=3).to(device)"
   ]
  },
  {
   "cell_type": "code",
   "execution_count": 94,
   "metadata": {
    "executionInfo": {
     "elapsed": 2690,
     "status": "ok",
     "timestamp": 1628627934626,
     "user": {
      "displayName": "donato crisostomi",
      "photoUrl": "https://lh3.googleusercontent.com/a-/AOh14GgPF6gIkQREu4fSPb3tb-jWgteqPZKF_Nfz42N5Bw=s64",
      "userId": "08389014917835436028"
     },
     "user_tz": -120
    },
    "id": "lmtRQ_JOrUsM"
   },
   "outputs": [],
   "source": [
    "model = LinearBaseline(num_nodes, num_triangles).to(device)"
   ]
  },
  {
   "cell_type": "code",
   "execution_count": null,
   "metadata": {
    "id": "1-w8zSZ5w6pG"
   },
   "outputs": [],
   "source": [
    "model = TopologyAwareBaseline(num_nodes, num_triangles, node_triangle_adj).to(device)"
   ]
  },
  {
   "cell_type": "code",
   "execution_count": null,
   "metadata": {
    "executionInfo": {
     "elapsed": 9,
     "status": "aborted",
     "timestamp": 1628628700372,
     "user": {
      "displayName": "donato crisostomi",
      "photoUrl": "https://lh3.googleusercontent.com/a-/AOh14GgPF6gIkQREu4fSPb3tb-jWgteqPZKF_Nfz42N5Bw=s64",
      "userId": "08389014917835436028"
     },
     "user_tz": -120
    },
    "id": "Y5Zit_a9rXZw"
   },
   "outputs": [],
   "source": [
    "print_number_of_parameters(model)\n",
    "optimizer = torch.optim.Adam(model.parameters(), lr=learning_rate)"
   ]
  },
  {
   "cell_type": "code",
   "execution_count": 143,
   "metadata": {
    "colab": {
     "base_uri": "https://localhost:8080/",
     "height": 401,
     "referenced_widgets": [
      "2838545ee5ca40e291e76c20ec29d62c",
      "4edcc024ed8a4fa49b07fdaccb334a07",
      "6364763aa1f148a8bd3d1fe3f0c38974",
      "42ce415b0e434fbcb1b659c4f185a740",
      "142fd7ef003a49e59a3f74b9949962e9",
      "ce2de3b3894f400cb66a84b8666abb07",
      "399a6be1fd6a47539e76460756cb2892",
      "0c026c03f68b4e2d99f9b363c4e1c3a9"
     ]
    },
    "executionInfo": {
     "elapsed": 241,
     "status": "error",
     "timestamp": 1628628684578,
     "user": {
      "displayName": "donato crisostomi",
      "photoUrl": "https://lh3.googleusercontent.com/a-/AOh14GgPF6gIkQREu4fSPb3tb-jWgteqPZKF_Nfz42N5Bw=s64",
      "userId": "08389014917835436028"
     },
     "user_tz": -120
    },
    "id": "neFVSsNdp18K",
    "outputId": "f80666f7-a811-4622-d0e7-a60044c57dbb"
   },
   "outputs": [
    {
     "data": {
      "application/vnd.jupyter.widget-view+json": {
       "model_id": "2838545ee5ca40e291e76c20ec29d62c",
       "version_major": 2,
       "version_minor": 0
      },
      "text/plain": [
       "HBox(children=(FloatProgress(value=0.0, max=400.0), HTML(value='')))"
      ]
     },
     "metadata": {
      "tags": []
     },
     "output_type": "display_data"
    },
    {
     "name": "stdout",
     "output_type": "stream",
     "text": [
      "Epoch: 0, loss: 1.2879\n"
     ]
    },
    {
     "ename": "RuntimeError",
     "evalue": "ignored",
     "output_type": "error",
     "traceback": [
      "\u001b[0;31m---------------------------------------------------------------------------\u001b[0m",
      "\u001b[0;31mRuntimeError\u001b[0m                              Traceback (most recent call last)",
      "\u001b[0;32m<ipython-input-143-d9e389d0f0bf>\u001b[0m in \u001b[0;36m<module>\u001b[0;34m()\u001b[0m\n\u001b[1;32m      1\u001b[0m \u001b[0mnum_epochs\u001b[0m \u001b[0;34m=\u001b[0m \u001b[0;36m400\u001b[0m\u001b[0;34m\u001b[0m\u001b[0;34m\u001b[0m\u001b[0m\n\u001b[1;32m      2\u001b[0m \u001b[0;34m\u001b[0m\u001b[0m\n\u001b[0;32m----> 3\u001b[0;31m \u001b[0mtrain\u001b[0m\u001b[0;34m(\u001b[0m\u001b[0mmodel\u001b[0m\u001b[0;34m,\u001b[0m \u001b[0mnum_epochs\u001b[0m\u001b[0;34m,\u001b[0m \u001b[0mcomponents\u001b[0m\u001b[0;34m,\u001b[0m \u001b[0minputs\u001b[0m\u001b[0;34m,\u001b[0m \u001b[0mtargets\u001b[0m\u001b[0;34m,\u001b[0m \u001b[0mBs\u001b[0m\u001b[0;34m,\u001b[0m \u001b[0mBt_s\u001b[0m\u001b[0;34m,\u001b[0m \u001b[0moptimizer\u001b[0m\u001b[0;34m,\u001b[0m \u001b[0mdevice\u001b[0m\u001b[0;34m,\u001b[0m \u001b[0mverbose\u001b[0m\u001b[0;34m=\u001b[0m\u001b[0;32mTrue\u001b[0m\u001b[0;34m)\u001b[0m\u001b[0;34m\u001b[0m\u001b[0;34m\u001b[0m\u001b[0m\n\u001b[0m",
      "\u001b[0;32m<ipython-input-113-fd39c43b4d77>\u001b[0m in \u001b[0;36mtrain\u001b[0;34m(model, num_epochs, components, inputs, targets, Bs, Bts, optimizer, device, verbose)\u001b[0m\n\u001b[1;32m     23\u001b[0m             \u001b[0mprint\u001b[0m\u001b[0;34m(\u001b[0m\u001b[0;34mf'Epoch: {epoch}, loss: {round(loss.item(), 4)}'\u001b[0m\u001b[0;34m)\u001b[0m\u001b[0;34m\u001b[0m\u001b[0;34m\u001b[0m\u001b[0m\n\u001b[1;32m     24\u001b[0m \u001b[0;34m\u001b[0m\u001b[0m\n\u001b[0;32m---> 25\u001b[0;31m         \u001b[0mloss\u001b[0m\u001b[0;34m.\u001b[0m\u001b[0mbackward\u001b[0m\u001b[0;34m(\u001b[0m\u001b[0;34m)\u001b[0m\u001b[0;34m\u001b[0m\u001b[0;34m\u001b[0m\u001b[0m\n\u001b[0m\u001b[1;32m     26\u001b[0m         \u001b[0moptimizer\u001b[0m\u001b[0;34m.\u001b[0m\u001b[0mstep\u001b[0m\u001b[0;34m(\u001b[0m\u001b[0;34m)\u001b[0m\u001b[0;34m\u001b[0m\u001b[0;34m\u001b[0m\u001b[0m\n",
      "\u001b[0;32m/usr/local/lib/python3.7/dist-packages/torch/_tensor.py\u001b[0m in \u001b[0;36mbackward\u001b[0;34m(self, gradient, retain_graph, create_graph, inputs)\u001b[0m\n\u001b[1;32m    253\u001b[0m                 \u001b[0mcreate_graph\u001b[0m\u001b[0;34m=\u001b[0m\u001b[0mcreate_graph\u001b[0m\u001b[0;34m,\u001b[0m\u001b[0;34m\u001b[0m\u001b[0;34m\u001b[0m\u001b[0m\n\u001b[1;32m    254\u001b[0m                 inputs=inputs)\n\u001b[0;32m--> 255\u001b[0;31m         \u001b[0mtorch\u001b[0m\u001b[0;34m.\u001b[0m\u001b[0mautograd\u001b[0m\u001b[0;34m.\u001b[0m\u001b[0mbackward\u001b[0m\u001b[0;34m(\u001b[0m\u001b[0mself\u001b[0m\u001b[0;34m,\u001b[0m \u001b[0mgradient\u001b[0m\u001b[0;34m,\u001b[0m \u001b[0mretain_graph\u001b[0m\u001b[0;34m,\u001b[0m \u001b[0mcreate_graph\u001b[0m\u001b[0;34m,\u001b[0m \u001b[0minputs\u001b[0m\u001b[0;34m=\u001b[0m\u001b[0minputs\u001b[0m\u001b[0;34m)\u001b[0m\u001b[0;34m\u001b[0m\u001b[0;34m\u001b[0m\u001b[0m\n\u001b[0m\u001b[1;32m    256\u001b[0m \u001b[0;34m\u001b[0m\u001b[0m\n\u001b[1;32m    257\u001b[0m     \u001b[0;32mdef\u001b[0m \u001b[0mregister_hook\u001b[0m\u001b[0;34m(\u001b[0m\u001b[0mself\u001b[0m\u001b[0;34m,\u001b[0m \u001b[0mhook\u001b[0m\u001b[0;34m)\u001b[0m\u001b[0;34m:\u001b[0m\u001b[0;34m\u001b[0m\u001b[0;34m\u001b[0m\u001b[0m\n",
      "\u001b[0;32m/usr/local/lib/python3.7/dist-packages/torch/autograd/__init__.py\u001b[0m in \u001b[0;36mbackward\u001b[0;34m(tensors, grad_tensors, retain_graph, create_graph, grad_variables, inputs)\u001b[0m\n\u001b[1;32m    147\u001b[0m     Variable._execution_engine.run_backward(\n\u001b[1;32m    148\u001b[0m         \u001b[0mtensors\u001b[0m\u001b[0;34m,\u001b[0m \u001b[0mgrad_tensors_\u001b[0m\u001b[0;34m,\u001b[0m \u001b[0mretain_graph\u001b[0m\u001b[0;34m,\u001b[0m \u001b[0mcreate_graph\u001b[0m\u001b[0;34m,\u001b[0m \u001b[0minputs\u001b[0m\u001b[0;34m,\u001b[0m\u001b[0;34m\u001b[0m\u001b[0;34m\u001b[0m\u001b[0m\n\u001b[0;32m--> 149\u001b[0;31m         allow_unreachable=True, accumulate_grad=True)  # allow_unreachable flag\n\u001b[0m\u001b[1;32m    150\u001b[0m \u001b[0;34m\u001b[0m\u001b[0m\n\u001b[1;32m    151\u001b[0m \u001b[0;34m\u001b[0m\u001b[0m\n",
      "\u001b[0;31mRuntimeError\u001b[0m: CUDA out of memory. Tried to allocate 872.00 MiB (GPU 0; 14.76 GiB total capacity; 12.27 GiB already allocated; 709.75 MiB free; 13.00 GiB reserved in total by PyTorch)"
     ]
    }
   ],
   "source": [
    "num_epochs = 400\n",
    "\n",
    "train(model, num_epochs, components, inputs, targets, Bs, Bt_s, optimizer, device, verbose=True)"
   ]
  },
  {
   "cell_type": "markdown",
   "metadata": {
    "id": "i6O-TzTFisU0"
   },
   "source": [
    "# Evaluation"
   ]
  },
  {
   "cell_type": "code",
   "execution_count": null,
   "metadata": {
    "id": "is7DJ58QxXtS"
   },
   "outputs": [],
   "source": [
    "xs = [input.clone().to(device) for input in inputs]\n",
    "# ys = model(xs, components, Bs, Bt_s)\n",
    "ys = model(xs[0])\n",
    "num_triangles = inputs[2].shape[1]\n",
    "assert num_triangles == len(ys)"
   ]
  },
  {
   "cell_type": "code",
   "execution_count": null,
   "metadata": {
    "id": "yP_LyqUmqUT-"
   },
   "outputs": [],
   "source": [
    "def normalize_vector(v):\n",
    "    return v/torch.sqrt(v[0]**2 + v[1]**2 + v[2]**2)"
   ]
  },
  {
   "cell_type": "code",
   "execution_count": null,
   "metadata": {
    "colab": {
     "base_uri": "https://localhost:8080/"
    },
    "executionInfo": {
     "elapsed": 2939,
     "status": "ok",
     "timestamp": 1628509290622,
     "user": {
      "displayName": "donato crisostomi",
      "photoUrl": "https://lh3.googleusercontent.com/a-/AOh14GgPF6gIkQREu4fSPb3tb-jWgteqPZKF_Nfz42N5Bw=s64",
      "userId": "08389014917835436028"
     },
     "user_tz": -120
    },
    "id": "ggb3luIaG9og",
    "outputId": "ebc9f43e-3f0f-4d09-b57a-dbad2892a7b6"
   },
   "outputs": [
    {
     "name": "stdout",
     "output_type": "stream",
     "text": [
      "Average differences:\n",
      "\tx: 0.0021703728166460583\n",
      "\ty: 0.001372144985654256\n",
      "\tz: 0.001812675663767596\n",
      "average angle: 0.15855544017477466\n"
     ]
    }
   ],
   "source": [
    "x_diffs, y_diffs, z_diffs = 0, 0, 0\n",
    "arcs = []\n",
    "predicted_norms = []\n",
    "\n",
    "for i in range(num_triangles):\n",
    "    x_diff, y_diff, z_diff = abs(ys[i] - targets[i])\n",
    "    y_normalized = normalize_vector(ys[i])\n",
    "    angle = y_normalized.float() @ targets[i]\n",
    "    arc = np.arccos(angle.cpu().detach().numpy())/np.pi * 180\n",
    "    arcs.append(arc)\n",
    "    predicted_norms.append(y_normalized)\n",
    "    x_diffs += x_diff\n",
    "    y_diffs += y_diff\n",
    "    z_diffs += z_diff\n",
    "\n",
    "\n",
    "print(f'Average differences:')\n",
    "print(f'\\tx: {(x_diffs/num_triangles).item()}')\n",
    "print(f'\\ty: {(y_diffs/num_triangles).item()}')\n",
    "print(f'\\tz: {(z_diffs/num_triangles).item()}')\n",
    "print(f'average angle: {np.mean(arcs)}')"
   ]
  },
  {
   "cell_type": "code",
   "execution_count": null,
   "metadata": {
    "id": "N4ynGrtyXifK"
   },
   "outputs": [],
   "source": [
    "positions = original_positions"
   ]
  },
  {
   "cell_type": "code",
   "execution_count": null,
   "metadata": {
    "id": "jg9rqO4kXqri"
   },
   "outputs": [],
   "source": [
    "stacked_triangles = np.stack(triangles)"
   ]
  },
  {
   "cell_type": "code",
   "execution_count": null,
   "metadata": {
    "id": "TJKHb-Ur4Xp-"
   },
   "outputs": [],
   "source": [
    "eval_targets = targets.cpu().numpy()"
   ]
  },
  {
   "cell_type": "code",
   "execution_count": null,
   "metadata": {
    "id": "Emr165MH42C4"
   },
   "outputs": [],
   "source": [
    "norm_targets = 255*(eval_targets - np.min(eval_targets))/np.ptp(eval_targets)  \n",
    "norm_targets = list(norm_targets)"
   ]
  },
  {
   "cell_type": "code",
   "execution_count": null,
   "metadata": {
    "id": "VTkS1kmL6X3t"
   },
   "outputs": [],
   "source": [
    "norm_targets_colors = [ f'rgb({x}, {y}, {z})' for x, y, z in norm_targets]"
   ]
  },
  {
   "cell_type": "code",
   "execution_count": null,
   "metadata": {
    "colab": {
     "base_uri": "https://localhost:8080/",
     "height": 941,
     "output_embedded_package_id": "1BwKI1vGNhKS2ZkM73XzoVAO6xJlFueGL"
    },
    "executionInfo": {
     "elapsed": 1991,
     "status": "ok",
     "timestamp": 1628509298632,
     "user": {
      "displayName": "donato crisostomi",
      "photoUrl": "https://lh3.googleusercontent.com/a-/AOh14GgPF6gIkQREu4fSPb3tb-jWgteqPZKF_Nfz42N5Bw=s64",
      "userId": "08389014917835436028"
     },
     "user_tz": -120
    },
    "id": "WlrE_OyzbTPE",
    "outputId": "8bbd127b-61dd-4343-e996-9d6e0a45bd4c"
   },
   "outputs": [
    {
     "data": {
      "text/plain": [
       "Output hidden; open in https://colab.research.google.com to view."
      ]
     },
     "metadata": {},
     "output_type": "display_data"
    }
   ],
   "source": [
    "import plotly.figure_factory as ff\n",
    "\n",
    "import numpy as np\n",
    "from scipy.spatial import Delaunay\n",
    "\n",
    "simplices = stacked_triangles\n",
    "\n",
    "print(simplices)\n",
    "x = positions[:, 0]\n",
    "y = positions[:, 1]\n",
    "z = positions[:, 2]\n",
    "\n",
    "fig = ff.create_trisurf(x=x, y=y, z=z,\n",
    "                         simplices=simplices,\n",
    "                         title=\"True normals\", aspectratio=dict(x=1, y=1, z=0.3), color_func=norm_targets_colors)\n",
    "\n",
    "fig.show()"
   ]
  },
  {
   "cell_type": "code",
   "execution_count": null,
   "metadata": {
    "id": "-cIC7jTJaG2U"
   },
   "outputs": [],
   "source": [
    "predicted_norms = [pred_norm.detach().cpu().numpy() for pred_norm in predicted_norms]"
   ]
  },
  {
   "cell_type": "code",
   "execution_count": null,
   "metadata": {
    "id": "OFMxNE4-ZtJ5"
   },
   "outputs": [],
   "source": [
    "predicted_norms = 255*(predicted_norms - np.min(predicted_norms))/np.ptp(predicted_norms)  \n",
    "predicted_norms = list(predicted_norms)"
   ]
  },
  {
   "cell_type": "code",
   "execution_count": null,
   "metadata": {
    "id": "nwKx6XxEYUnB"
   },
   "outputs": [],
   "source": [
    "predicted_norm_colors = [ f'rgb({x}, {y}, {z})' for x, y, z in predicted_norms]"
   ]
  },
  {
   "cell_type": "code",
   "execution_count": null,
   "metadata": {
    "colab": {
     "base_uri": "https://localhost:8080/",
     "height": 816,
     "output_embedded_package_id": "1jlMzcSf0yJFIUIQ5JHnWN75rlj_PZzmP"
    },
    "executionInfo": {
     "elapsed": 1945,
     "status": "ok",
     "timestamp": 1628509301532,
     "user": {
      "displayName": "donato crisostomi",
      "photoUrl": "https://lh3.googleusercontent.com/a-/AOh14GgPF6gIkQREu4fSPb3tb-jWgteqPZKF_Nfz42N5Bw=s64",
      "userId": "08389014917835436028"
     },
     "user_tz": -120
    },
    "id": "4SMCAovO1Wy0",
    "outputId": "7c092ba5-61c3-485f-f524-24fc9f468498"
   },
   "outputs": [
    {
     "data": {
      "text/plain": [
       "Output hidden; open in https://colab.research.google.com to view."
      ]
     },
     "metadata": {},
     "output_type": "display_data"
    }
   ],
   "source": [
    "fig = ff.create_trisurf(x=x, y=y, z=z,\n",
    "                         simplices=simplices,\n",
    "                         title=\"Predicted normals\", aspectratio=dict(x=1, y=1, z=0.3), color_func=predicted_norm_colors)\n",
    "\n",
    "fig.show()"
   ]
  },
  {
   "cell_type": "code",
   "execution_count": null,
   "metadata": {
    "id": "DyNtSB5QexuZ"
   },
   "outputs": [],
   "source": []
  }
 ],
 "metadata": {
  "accelerator": "GPU",
  "colab": {
   "authorship_tag": "ABX9TyNqp46+xXhC4r8sMxKfNSHm",
   "collapsed_sections": [
    "E9vEZZ15BbgE",
    "JUXyuZT0JJQo",
    "o7kRPCON3w7h",
    "SjQSz-wa7H_l",
    "DJdos1C2V5wz",
    "BckqCxWh_uCb",
    "_BNrUWds7J0g",
    "I4lBAkl4ICux",
    "WPDUFSOW1zcL",
    "_EceyySrrsM3",
    "0pYgqESLJxP0",
    "VdhaU5K0GJrm",
    "d2viSKzvEWLv",
    "5cqMrPVnEZ96",
    "bXf2SKgtzNfh",
    "4Sxp9rpREfuQ",
    "xwWrv6f5o50z",
    "FvkXw7k6Zg_U",
    "1fdOUfoqZt0E",
    "ohwc5EvpPvzU",
    "DktIDt9JQBvY",
    "UxbCZZ3VTWuO",
    "Z_xNsM67QQr3",
    "Fxl51Wknf2q4",
    "afAZMQ7OsS2S",
    "xbQkNkjJQ-6r",
    "YBLT1bSOA_Yt",
    "OVTNVLZXAdAB",
    "ISSaJffEAfxp",
    "Rn4niJTeAF1j",
    "i6O-TzTFisU0"
   ],
   "name": "mesh_normals.ipynb",
   "provenance": []
  },
  "kernelspec": {
   "display_name": "Python 3",
   "language": "python",
   "name": "python3"
  },
  "language_info": {
   "codemirror_mode": {
    "name": "ipython",
    "version": 3
   },
   "file_extension": ".py",
   "mimetype": "text/x-python",
   "name": "python",
   "nbconvert_exporter": "python",
   "pygments_lexer": "ipython3",
   "version": "3.9.6"
  },
  "widgets": {
   "application/vnd.jupyter.widget-state+json": {
    "0c026c03f68b4e2d99f9b363c4e1c3a9": {
     "model_module": "@jupyter-widgets/base",
     "model_module_version": "1.2.0",
     "model_name": "LayoutModel",
     "state": {
      "_model_module": "@jupyter-widgets/base",
      "_model_module_version": "1.2.0",
      "_model_name": "LayoutModel",
      "_view_count": null,
      "_view_module": "@jupyter-widgets/base",
      "_view_module_version": "1.2.0",
      "_view_name": "LayoutView",
      "align_content": null,
      "align_items": null,
      "align_self": null,
      "border": null,
      "bottom": null,
      "display": null,
      "flex": null,
      "flex_flow": null,
      "grid_area": null,
      "grid_auto_columns": null,
      "grid_auto_flow": null,
      "grid_auto_rows": null,
      "grid_column": null,
      "grid_gap": null,
      "grid_row": null,
      "grid_template_areas": null,
      "grid_template_columns": null,
      "grid_template_rows": null,
      "height": null,
      "justify_content": null,
      "justify_items": null,
      "left": null,
      "margin": null,
      "max_height": null,
      "max_width": null,
      "min_height": null,
      "min_width": null,
      "object_fit": null,
      "object_position": null,
      "order": null,
      "overflow": null,
      "overflow_x": null,
      "overflow_y": null,
      "padding": null,
      "right": null,
      "top": null,
      "visibility": null,
      "width": null
     }
    },
    "142fd7ef003a49e59a3f74b9949962e9": {
     "model_module": "@jupyter-widgets/controls",
     "model_module_version": "1.5.0",
     "model_name": "ProgressStyleModel",
     "state": {
      "_model_module": "@jupyter-widgets/controls",
      "_model_module_version": "1.5.0",
      "_model_name": "ProgressStyleModel",
      "_view_count": null,
      "_view_module": "@jupyter-widgets/base",
      "_view_module_version": "1.2.0",
      "_view_name": "StyleView",
      "bar_color": null,
      "description_width": "initial"
     }
    },
    "2838545ee5ca40e291e76c20ec29d62c": {
     "model_module": "@jupyter-widgets/controls",
     "model_module_version": "1.5.0",
     "model_name": "HBoxModel",
     "state": {
      "_dom_classes": [],
      "_model_module": "@jupyter-widgets/controls",
      "_model_module_version": "1.5.0",
      "_model_name": "HBoxModel",
      "_view_count": null,
      "_view_module": "@jupyter-widgets/controls",
      "_view_module_version": "1.5.0",
      "_view_name": "HBoxView",
      "box_style": "",
      "children": [
       "IPY_MODEL_6364763aa1f148a8bd3d1fe3f0c38974",
       "IPY_MODEL_42ce415b0e434fbcb1b659c4f185a740"
      ],
      "layout": "IPY_MODEL_4edcc024ed8a4fa49b07fdaccb334a07"
     }
    },
    "399a6be1fd6a47539e76460756cb2892": {
     "model_module": "@jupyter-widgets/controls",
     "model_module_version": "1.5.0",
     "model_name": "DescriptionStyleModel",
     "state": {
      "_model_module": "@jupyter-widgets/controls",
      "_model_module_version": "1.5.0",
      "_model_name": "DescriptionStyleModel",
      "_view_count": null,
      "_view_module": "@jupyter-widgets/base",
      "_view_module_version": "1.2.0",
      "_view_name": "StyleView",
      "description_width": ""
     }
    },
    "42ce415b0e434fbcb1b659c4f185a740": {
     "model_module": "@jupyter-widgets/controls",
     "model_module_version": "1.5.0",
     "model_name": "HTMLModel",
     "state": {
      "_dom_classes": [],
      "_model_module": "@jupyter-widgets/controls",
      "_model_module_version": "1.5.0",
      "_model_name": "HTMLModel",
      "_view_count": null,
      "_view_module": "@jupyter-widgets/controls",
      "_view_module_version": "1.5.0",
      "_view_name": "HTMLView",
      "description": "",
      "description_tooltip": null,
      "layout": "IPY_MODEL_0c026c03f68b4e2d99f9b363c4e1c3a9",
      "placeholder": "​",
      "style": "IPY_MODEL_399a6be1fd6a47539e76460756cb2892",
      "value": " 0/400 [00:00&lt;?, ?it/s]"
     }
    },
    "4edcc024ed8a4fa49b07fdaccb334a07": {
     "model_module": "@jupyter-widgets/base",
     "model_module_version": "1.2.0",
     "model_name": "LayoutModel",
     "state": {
      "_model_module": "@jupyter-widgets/base",
      "_model_module_version": "1.2.0",
      "_model_name": "LayoutModel",
      "_view_count": null,
      "_view_module": "@jupyter-widgets/base",
      "_view_module_version": "1.2.0",
      "_view_name": "LayoutView",
      "align_content": null,
      "align_items": null,
      "align_self": null,
      "border": null,
      "bottom": null,
      "display": null,
      "flex": null,
      "flex_flow": null,
      "grid_area": null,
      "grid_auto_columns": null,
      "grid_auto_flow": null,
      "grid_auto_rows": null,
      "grid_column": null,
      "grid_gap": null,
      "grid_row": null,
      "grid_template_areas": null,
      "grid_template_columns": null,
      "grid_template_rows": null,
      "height": null,
      "justify_content": null,
      "justify_items": null,
      "left": null,
      "margin": null,
      "max_height": null,
      "max_width": null,
      "min_height": null,
      "min_width": null,
      "object_fit": null,
      "object_position": null,
      "order": null,
      "overflow": null,
      "overflow_x": null,
      "overflow_y": null,
      "padding": null,
      "right": null,
      "top": null,
      "visibility": null,
      "width": null
     }
    },
    "6364763aa1f148a8bd3d1fe3f0c38974": {
     "model_module": "@jupyter-widgets/controls",
     "model_module_version": "1.5.0",
     "model_name": "FloatProgressModel",
     "state": {
      "_dom_classes": [],
      "_model_module": "@jupyter-widgets/controls",
      "_model_module_version": "1.5.0",
      "_model_name": "FloatProgressModel",
      "_view_count": null,
      "_view_module": "@jupyter-widgets/controls",
      "_view_module_version": "1.5.0",
      "_view_name": "ProgressView",
      "bar_style": "danger",
      "description": "  0%",
      "description_tooltip": null,
      "layout": "IPY_MODEL_ce2de3b3894f400cb66a84b8666abb07",
      "max": 400,
      "min": 0,
      "orientation": "horizontal",
      "style": "IPY_MODEL_142fd7ef003a49e59a3f74b9949962e9",
      "value": 0
     }
    },
    "ce2de3b3894f400cb66a84b8666abb07": {
     "model_module": "@jupyter-widgets/base",
     "model_module_version": "1.2.0",
     "model_name": "LayoutModel",
     "state": {
      "_model_module": "@jupyter-widgets/base",
      "_model_module_version": "1.2.0",
      "_model_name": "LayoutModel",
      "_view_count": null,
      "_view_module": "@jupyter-widgets/base",
      "_view_module_version": "1.2.0",
      "_view_name": "LayoutView",
      "align_content": null,
      "align_items": null,
      "align_self": null,
      "border": null,
      "bottom": null,
      "display": null,
      "flex": null,
      "flex_flow": null,
      "grid_area": null,
      "grid_auto_columns": null,
      "grid_auto_flow": null,
      "grid_auto_rows": null,
      "grid_column": null,
      "grid_gap": null,
      "grid_row": null,
      "grid_template_areas": null,
      "grid_template_columns": null,
      "grid_template_rows": null,
      "height": null,
      "justify_content": null,
      "justify_items": null,
      "left": null,
      "margin": null,
      "max_height": null,
      "max_width": null,
      "min_height": null,
      "min_width": null,
      "object_fit": null,
      "object_position": null,
      "order": null,
      "overflow": null,
      "overflow_x": null,
      "overflow_y": null,
      "padding": null,
      "right": null,
      "top": null,
      "visibility": null,
      "width": null
     }
    }
   }
  }
 },
 "nbformat": 4,
 "nbformat_minor": 1
}
